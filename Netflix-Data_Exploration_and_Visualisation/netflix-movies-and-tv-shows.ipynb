{
 "cells": [
  {
   "cell_type": "markdown",
   "id": "7501a631",
   "metadata": {
    "papermill": {
     "duration": 0.054003,
     "end_time": "2022-02-07T18:54:45.260682",
     "exception": false,
     "start_time": "2022-02-07T18:54:45.206679",
     "status": "completed"
    },
    "tags": []
   },
   "source": [
    "# Business Case: Netflix - Data Exploration and Visualisation\n",
    "\n",
    "#### Content based Recommendations"
   ]
  },
  {
   "cell_type": "markdown",
   "id": "fd737722",
   "metadata": {
    "papermill": {
     "duration": 0.054677,
     "end_time": "2022-02-07T18:54:45.370293",
     "exception": false,
     "start_time": "2022-02-07T18:54:45.315616",
     "status": "completed"
    },
    "tags": []
   },
   "source": [
    "### Business Problem\n",
    "\n",
    "  - Analyze the data and generate insights that could help Netflix decide which type of shows/movies to produce and how to grow the business.\n",
    "\n",
    "The dataset provided to you consists of a list of all the TV shows/movies available on Netflix:\n",
    "\n",
    "  - **Show_id:** Unique ID for every Movie / Tv Show\n",
    "  - **Type:** Identifier - A Movie or TV Show\n",
    "  - **Title:** Title of the Movie / Tv Show\n",
    "  - **Director:** Director of the Movie\n",
    "  - **Cast:** Actors involved in the movie/show\n",
    "  - **Country:** Country where the movie/show was produced\n",
    "  - **Date_added:** Date it was added on Netflix\n",
    "  - **Release_year:** Actual Release year of the movie/show\n",
    "  - **Rating:** TV Rating of the movie/show\n",
    "  - **Duration:** Total Duration - in minutes or number of seasons\n",
    "  - **Listed_in:** Genre\n",
    "  - **Description:** The summary description"
   ]
  },
  {
   "cell_type": "markdown",
   "id": "a2df37a2",
   "metadata": {
    "papermill": {
     "duration": 0.053744,
     "end_time": "2022-02-07T18:54:45.478153",
     "exception": false,
     "start_time": "2022-02-07T18:54:45.424409",
     "status": "completed"
    },
    "tags": []
   },
   "source": [
    "## A high level overview of the Neflix Dataset Exploration and Visualization\n",
    "\n",
    "  - **Loading and inspecting the Dataset**\n",
    "    - Checking Shape of the Dateset\n",
    "    - Meaningful Column names\n",
    "    - Validating Duplicate Records\n",
    "    - Checking Missing values\n",
    "    - Unique values (counts) for each Feature\n",
    "    - Unique values (names) are checked for Features with a unique value count below 100\n",
    "    - Data validation - like for rating feature value cannot be duration of the movie.\n",
    "  - **Dataset Preparation**\n",
    "    - DataType Validation\n",
    "    - Dervied Columns\n",
    "  - **Univariante Analysis**\n",
    "    - Movies & TV shows - Distribution\n",
    "    - A pattern for adding Movies & TV shows content annually, monthly, etc.\n",
    "    - Release year of a movie or TV show\n",
    "    - Identify how content is distributed based on maturity level - kids, teens, and adults\n",
    "    - Netflix's most popular genre\n",
    "    - Top 20 cast contributed to Netflix content\n",
    "  - **Biivariante Analysis**\n",
    "    - day content added and Type (Movie or Tv Show)\n",
    "    - rating and type \n",
    "  - **Summary of final recommendations**"
   ]
  },
  {
   "cell_type": "markdown",
   "id": "c39573e1",
   "metadata": {
    "papermill": {
     "duration": 0.053547,
     "end_time": "2022-02-07T18:54:45.585714",
     "exception": false,
     "start_time": "2022-02-07T18:54:45.532167",
     "status": "completed"
    },
    "tags": []
   },
   "source": [
    "## Importing the required libraries or packages for EDA "
   ]
  },
  {
   "cell_type": "code",
   "execution_count": 2,
   "id": "ef8a110c",
   "metadata": {
    "execution": {
     "iopub.execute_input": "2022-02-07T18:54:45.696972Z",
     "iopub.status.busy": "2022-02-07T18:54:45.696011Z",
     "iopub.status.idle": "2022-02-07T18:54:46.609326Z",
     "shell.execute_reply": "2022-02-07T18:54:46.609818Z",
     "shell.execute_reply.started": "2022-02-07T18:49:07.495526Z"
    },
    "papermill": {
     "duration": 0.970319,
     "end_time": "2022-02-07T18:54:46.609994",
     "exception": false,
     "start_time": "2022-02-07T18:54:45.639675",
     "status": "completed"
    },
    "tags": []
   },
   "outputs": [],
   "source": [
    "# Importing numpy and pandas packages\n",
    "import numpy as np\n",
    "import pandas as pd\n",
    "\n",
    "# Importing matplotlib and seaborn for graphs\n",
    "import matplotlib.pyplot as plt\n",
    "import seaborn as sns\n",
    "\n",
    "import warnings\n",
    "warnings.filterwarnings('ignore')\n",
    "\n",
    "# Importing Date & Time util modules\n",
    "from dateutil.parser import parse\n",
    "\n",
    "from collections import Counter"
   ]
  },
  {
   "cell_type": "markdown",
   "id": "9164c3c8",
   "metadata": {
    "papermill": {
     "duration": 0.055159,
     "end_time": "2022-02-07T18:54:46.719882",
     "exception": false,
     "start_time": "2022-02-07T18:54:46.664723",
     "status": "completed"
    },
    "tags": []
   },
   "source": [
    "## Loading and inspecting the Dataset"
   ]
  },
  {
   "cell_type": "markdown",
   "id": "643a50ff",
   "metadata": {
    "papermill": {
     "duration": 0.054273,
     "end_time": "2022-02-07T18:54:46.831702",
     "exception": false,
     "start_time": "2022-02-07T18:54:46.777429",
     "status": "completed"
    },
    "tags": []
   },
   "source": [
    "### Loading the csv file"
   ]
  },
  {
   "cell_type": "code",
   "execution_count": 3,
   "id": "13fd42dc",
   "metadata": {
    "execution": {
     "iopub.execute_input": "2022-02-07T18:54:46.958926Z",
     "iopub.status.busy": "2022-02-07T18:54:46.957122Z",
     "iopub.status.idle": "2022-02-07T18:54:47.099281Z",
     "shell.execute_reply": "2022-02-07T18:54:47.099714Z",
     "shell.execute_reply.started": "2022-02-07T18:49:08.640420Z"
    },
    "papermill": {
     "duration": 0.201779,
     "end_time": "2022-02-07T18:54:47.099885",
     "exception": false,
     "start_time": "2022-02-07T18:54:46.898106",
     "status": "completed"
    },
    "tags": []
   },
   "outputs": [
    {
     "data": {
      "text/html": [
       "<div>\n",
       "<style scoped>\n",
       "    .dataframe tbody tr th:only-of-type {\n",
       "        vertical-align: middle;\n",
       "    }\n",
       "\n",
       "    .dataframe tbody tr th {\n",
       "        vertical-align: top;\n",
       "    }\n",
       "\n",
       "    .dataframe thead th {\n",
       "        text-align: right;\n",
       "    }\n",
       "</style>\n",
       "<table border=\"1\" class=\"dataframe\">\n",
       "  <thead>\n",
       "    <tr style=\"text-align: right;\">\n",
       "      <th></th>\n",
       "      <th>show_id</th>\n",
       "      <th>type</th>\n",
       "      <th>title</th>\n",
       "      <th>director</th>\n",
       "      <th>cast</th>\n",
       "      <th>country</th>\n",
       "      <th>date_added</th>\n",
       "      <th>release_year</th>\n",
       "      <th>rating</th>\n",
       "      <th>duration</th>\n",
       "      <th>listed_in</th>\n",
       "      <th>description</th>\n",
       "    </tr>\n",
       "  </thead>\n",
       "  <tbody>\n",
       "    <tr>\n",
       "      <th>0</th>\n",
       "      <td>s1</td>\n",
       "      <td>Movie</td>\n",
       "      <td>Dick Johnson Is Dead</td>\n",
       "      <td>Kirsten Johnson</td>\n",
       "      <td>NaN</td>\n",
       "      <td>United States</td>\n",
       "      <td>September 25, 2021</td>\n",
       "      <td>2020</td>\n",
       "      <td>PG-13</td>\n",
       "      <td>90 min</td>\n",
       "      <td>Documentaries</td>\n",
       "      <td>As her father nears the end of his life, filmm...</td>\n",
       "    </tr>\n",
       "    <tr>\n",
       "      <th>1</th>\n",
       "      <td>s2</td>\n",
       "      <td>TV Show</td>\n",
       "      <td>Blood &amp; Water</td>\n",
       "      <td>NaN</td>\n",
       "      <td>Ama Qamata, Khosi Ngema, Gail Mabalane, Thaban...</td>\n",
       "      <td>South Africa</td>\n",
       "      <td>September 24, 2021</td>\n",
       "      <td>2021</td>\n",
       "      <td>TV-MA</td>\n",
       "      <td>2 Seasons</td>\n",
       "      <td>International TV Shows, TV Dramas, TV Mysteries</td>\n",
       "      <td>After crossing paths at a party, a Cape Town t...</td>\n",
       "    </tr>\n",
       "    <tr>\n",
       "      <th>2</th>\n",
       "      <td>s3</td>\n",
       "      <td>TV Show</td>\n",
       "      <td>Ganglands</td>\n",
       "      <td>Julien Leclercq</td>\n",
       "      <td>Sami Bouajila, Tracy Gotoas, Samuel Jouy, Nabi...</td>\n",
       "      <td>NaN</td>\n",
       "      <td>September 24, 2021</td>\n",
       "      <td>2021</td>\n",
       "      <td>TV-MA</td>\n",
       "      <td>1 Season</td>\n",
       "      <td>Crime TV Shows, International TV Shows, TV Act...</td>\n",
       "      <td>To protect his family from a powerful drug lor...</td>\n",
       "    </tr>\n",
       "    <tr>\n",
       "      <th>3</th>\n",
       "      <td>s4</td>\n",
       "      <td>TV Show</td>\n",
       "      <td>Jailbirds New Orleans</td>\n",
       "      <td>NaN</td>\n",
       "      <td>NaN</td>\n",
       "      <td>NaN</td>\n",
       "      <td>September 24, 2021</td>\n",
       "      <td>2021</td>\n",
       "      <td>TV-MA</td>\n",
       "      <td>1 Season</td>\n",
       "      <td>Docuseries, Reality TV</td>\n",
       "      <td>Feuds, flirtations and toilet talk go down amo...</td>\n",
       "    </tr>\n",
       "    <tr>\n",
       "      <th>4</th>\n",
       "      <td>s5</td>\n",
       "      <td>TV Show</td>\n",
       "      <td>Kota Factory</td>\n",
       "      <td>NaN</td>\n",
       "      <td>Mayur More, Jitendra Kumar, Ranjan Raj, Alam K...</td>\n",
       "      <td>India</td>\n",
       "      <td>September 24, 2021</td>\n",
       "      <td>2021</td>\n",
       "      <td>TV-MA</td>\n",
       "      <td>2 Seasons</td>\n",
       "      <td>International TV Shows, Romantic TV Shows, TV ...</td>\n",
       "      <td>In a city of coaching centers known to train I...</td>\n",
       "    </tr>\n",
       "  </tbody>\n",
       "</table>\n",
       "</div>"
      ],
      "text/plain": [
       "  show_id     type                  title         director  \\\n",
       "0      s1    Movie   Dick Johnson Is Dead  Kirsten Johnson   \n",
       "1      s2  TV Show          Blood & Water              NaN   \n",
       "2      s3  TV Show              Ganglands  Julien Leclercq   \n",
       "3      s4  TV Show  Jailbirds New Orleans              NaN   \n",
       "4      s5  TV Show           Kota Factory              NaN   \n",
       "\n",
       "                                                cast        country  \\\n",
       "0                                                NaN  United States   \n",
       "1  Ama Qamata, Khosi Ngema, Gail Mabalane, Thaban...   South Africa   \n",
       "2  Sami Bouajila, Tracy Gotoas, Samuel Jouy, Nabi...            NaN   \n",
       "3                                                NaN            NaN   \n",
       "4  Mayur More, Jitendra Kumar, Ranjan Raj, Alam K...          India   \n",
       "\n",
       "           date_added  release_year rating   duration  \\\n",
       "0  September 25, 2021          2020  PG-13     90 min   \n",
       "1  September 24, 2021          2021  TV-MA  2 Seasons   \n",
       "2  September 24, 2021          2021  TV-MA   1 Season   \n",
       "3  September 24, 2021          2021  TV-MA   1 Season   \n",
       "4  September 24, 2021          2021  TV-MA  2 Seasons   \n",
       "\n",
       "                                           listed_in  \\\n",
       "0                                      Documentaries   \n",
       "1    International TV Shows, TV Dramas, TV Mysteries   \n",
       "2  Crime TV Shows, International TV Shows, TV Act...   \n",
       "3                             Docuseries, Reality TV   \n",
       "4  International TV Shows, Romantic TV Shows, TV ...   \n",
       "\n",
       "                                         description  \n",
       "0  As her father nears the end of his life, filmm...  \n",
       "1  After crossing paths at a party, a Cape Town t...  \n",
       "2  To protect his family from a powerful drug lor...  \n",
       "3  Feuds, flirtations and toilet talk go down amo...  \n",
       "4  In a city of coaching centers known to train I...  "
      ]
     },
     "execution_count": 3,
     "metadata": {},
     "output_type": "execute_result"
    }
   ],
   "source": [
    "netflix_data = pd.read_csv(\"../input/netflix-shows/netflix_titles.csv\")\n",
    "netflix_data.head()"
   ]
  },
  {
   "cell_type": "markdown",
   "id": "00f3328e",
   "metadata": {
    "papermill": {
     "duration": 0.055906,
     "end_time": "2022-02-07T18:54:47.213084",
     "exception": false,
     "start_time": "2022-02-07T18:54:47.157178",
     "status": "completed"
    },
    "tags": []
   },
   "source": [
    "### Checking Shape and Column names"
   ]
  },
  {
   "cell_type": "code",
   "execution_count": 4,
   "id": "66a423a9",
   "metadata": {
    "execution": {
     "iopub.execute_input": "2022-02-07T18:54:47.337256Z",
     "iopub.status.busy": "2022-02-07T18:54:47.336653Z",
     "iopub.status.idle": "2022-02-07T18:54:47.346495Z",
     "shell.execute_reply": "2022-02-07T18:54:47.346998Z",
     "shell.execute_reply.started": "2022-02-07T18:49:08.847248Z"
    },
    "papermill": {
     "duration": 0.078096,
     "end_time": "2022-02-07T18:54:47.347226",
     "exception": false,
     "start_time": "2022-02-07T18:54:47.269130",
     "status": "completed"
    },
    "tags": []
   },
   "outputs": [
    {
     "data": {
      "text/plain": [
       "(8807, 12)"
      ]
     },
     "execution_count": 4,
     "metadata": {},
     "output_type": "execute_result"
    }
   ],
   "source": [
    "netflix_data.shape"
   ]
  },
  {
   "cell_type": "code",
   "execution_count": 5,
   "id": "7252768e",
   "metadata": {
    "execution": {
     "iopub.execute_input": "2022-02-07T18:54:47.470785Z",
     "iopub.status.busy": "2022-02-07T18:54:47.470026Z",
     "iopub.status.idle": "2022-02-07T18:54:47.472921Z",
     "shell.execute_reply": "2022-02-07T18:54:47.473348Z",
     "shell.execute_reply.started": "2022-02-07T18:49:08.854934Z"
    },
    "papermill": {
     "duration": 0.06667,
     "end_time": "2022-02-07T18:54:47.473506",
     "exception": false,
     "start_time": "2022-02-07T18:54:47.406836",
     "status": "completed"
    },
    "tags": []
   },
   "outputs": [
    {
     "data": {
      "text/plain": [
       "Index(['show_id', 'type', 'title', 'director', 'cast', 'country', 'date_added',\n",
       "       'release_year', 'rating', 'duration', 'listed_in', 'description'],\n",
       "      dtype='object')"
      ]
     },
     "execution_count": 5,
     "metadata": {},
     "output_type": "execute_result"
    }
   ],
   "source": [
    "netflix_data.columns"
   ]
  },
  {
   "cell_type": "markdown",
   "id": "1ccf8b57",
   "metadata": {
    "papermill": {
     "duration": 0.055064,
     "end_time": "2022-02-07T18:54:47.583993",
     "exception": false,
     "start_time": "2022-02-07T18:54:47.528929",
     "status": "completed"
    },
    "tags": []
   },
   "source": [
    "### To make the column names more meaningful, \"listed_in\" has been changed to \"genres\"."
   ]
  },
  {
   "cell_type": "code",
   "execution_count": 6,
   "id": "08119621",
   "metadata": {
    "execution": {
     "iopub.execute_input": "2022-02-07T18:54:47.702942Z",
     "iopub.status.busy": "2022-02-07T18:54:47.702070Z",
     "iopub.status.idle": "2022-02-07T18:54:47.709927Z",
     "shell.execute_reply": "2022-02-07T18:54:47.710467Z",
     "shell.execute_reply.started": "2022-02-07T18:49:08.867799Z"
    },
    "papermill": {
     "duration": 0.071259,
     "end_time": "2022-02-07T18:54:47.710625",
     "exception": false,
     "start_time": "2022-02-07T18:54:47.639366",
     "status": "completed"
    },
    "tags": []
   },
   "outputs": [
    {
     "data": {
      "text/plain": [
       "Index(['show_id', 'type', 'title', 'director', 'cast', 'country', 'date_added',\n",
       "       'release_year', 'rating', 'duration', 'genres', 'description'],\n",
       "      dtype='object')"
      ]
     },
     "execution_count": 6,
     "metadata": {},
     "output_type": "execute_result"
    }
   ],
   "source": [
    "netflix_data.rename(columns = {\"listed_in\":\"genres\"},inplace= True)\n",
    "netflix_data.columns"
   ]
  },
  {
   "cell_type": "markdown",
   "id": "005611f1",
   "metadata": {
    "papermill": {
     "duration": 0.055164,
     "end_time": "2022-02-07T18:54:47.822074",
     "exception": false,
     "start_time": "2022-02-07T18:54:47.766910",
     "status": "completed"
    },
    "tags": []
   },
   "source": [
    "### Validating Duplicate Records."
   ]
  },
  {
   "cell_type": "code",
   "execution_count": 7,
   "id": "b0ed4495",
   "metadata": {
    "execution": {
     "iopub.execute_input": "2022-02-07T18:54:47.936865Z",
     "iopub.status.busy": "2022-02-07T18:54:47.935987Z",
     "iopub.status.idle": "2022-02-07T18:54:47.966602Z",
     "shell.execute_reply": "2022-02-07T18:54:47.967028Z",
     "shell.execute_reply.started": "2022-02-07T18:49:08.890262Z"
    },
    "papermill": {
     "duration": 0.08956,
     "end_time": "2022-02-07T18:54:47.967188",
     "exception": false,
     "start_time": "2022-02-07T18:54:47.877628",
     "status": "completed"
    },
    "tags": []
   },
   "outputs": [
    {
     "data": {
      "text/plain": [
       "(8807, 12)"
      ]
     },
     "execution_count": 7,
     "metadata": {},
     "output_type": "execute_result"
    }
   ],
   "source": [
    "# Dropping Duplicates if any\n",
    "netflix_data=netflix_data.drop_duplicates()\n",
    "netflix_data.shape"
   ]
  },
  {
   "cell_type": "markdown",
   "id": "c594d598",
   "metadata": {
    "papermill": {
     "duration": 0.055332,
     "end_time": "2022-02-07T18:54:48.077690",
     "exception": false,
     "start_time": "2022-02-07T18:54:48.022358",
     "status": "completed"
    },
    "tags": []
   },
   "source": [
    "### Inference \n",
    "  - No duplicates records found."
   ]
  },
  {
   "cell_type": "markdown",
   "id": "f12f4cb9",
   "metadata": {
    "papermill": {
     "duration": 0.055641,
     "end_time": "2022-02-07T18:54:48.188386",
     "exception": false,
     "start_time": "2022-02-07T18:54:48.132745",
     "status": "completed"
    },
    "tags": []
   },
   "source": [
    "### Missing Data Anaysis"
   ]
  },
  {
   "cell_type": "code",
   "execution_count": 8,
   "id": "b97dbb93",
   "metadata": {
    "execution": {
     "iopub.execute_input": "2022-02-07T18:54:48.304790Z",
     "iopub.status.busy": "2022-02-07T18:54:48.303917Z",
     "iopub.status.idle": "2022-02-07T18:54:48.334339Z",
     "shell.execute_reply": "2022-02-07T18:54:48.334764Z",
     "shell.execute_reply.started": "2022-02-07T18:49:08.936928Z"
    },
    "papermill": {
     "duration": 0.090253,
     "end_time": "2022-02-07T18:54:48.334922",
     "exception": false,
     "start_time": "2022-02-07T18:54:48.244669",
     "status": "completed"
    },
    "tags": []
   },
   "outputs": [
    {
     "name": "stdout",
     "output_type": "stream",
     "text": [
      "Total records (Car Data) =  8807\n"
     ]
    },
    {
     "data": {
      "text/html": [
       "<div>\n",
       "<style scoped>\n",
       "    .dataframe tbody tr th:only-of-type {\n",
       "        vertical-align: middle;\n",
       "    }\n",
       "\n",
       "    .dataframe tbody tr th {\n",
       "        vertical-align: top;\n",
       "    }\n",
       "\n",
       "    .dataframe thead th {\n",
       "        text-align: right;\n",
       "    }\n",
       "</style>\n",
       "<table border=\"1\" class=\"dataframe\">\n",
       "  <thead>\n",
       "    <tr style=\"text-align: right;\">\n",
       "      <th></th>\n",
       "      <th>Total Missing</th>\n",
       "      <th>In Percent</th>\n",
       "    </tr>\n",
       "  </thead>\n",
       "  <tbody>\n",
       "    <tr>\n",
       "      <th>director</th>\n",
       "      <td>2634</td>\n",
       "      <td>29.91</td>\n",
       "    </tr>\n",
       "    <tr>\n",
       "      <th>country</th>\n",
       "      <td>831</td>\n",
       "      <td>9.44</td>\n",
       "    </tr>\n",
       "    <tr>\n",
       "      <th>cast</th>\n",
       "      <td>825</td>\n",
       "      <td>9.37</td>\n",
       "    </tr>\n",
       "    <tr>\n",
       "      <th>date_added</th>\n",
       "      <td>10</td>\n",
       "      <td>0.11</td>\n",
       "    </tr>\n",
       "    <tr>\n",
       "      <th>rating</th>\n",
       "      <td>4</td>\n",
       "      <td>0.05</td>\n",
       "    </tr>\n",
       "    <tr>\n",
       "      <th>duration</th>\n",
       "      <td>3</td>\n",
       "      <td>0.03</td>\n",
       "    </tr>\n",
       "    <tr>\n",
       "      <th>show_id</th>\n",
       "      <td>0</td>\n",
       "      <td>0.00</td>\n",
       "    </tr>\n",
       "    <tr>\n",
       "      <th>type</th>\n",
       "      <td>0</td>\n",
       "      <td>0.00</td>\n",
       "    </tr>\n",
       "    <tr>\n",
       "      <th>title</th>\n",
       "      <td>0</td>\n",
       "      <td>0.00</td>\n",
       "    </tr>\n",
       "    <tr>\n",
       "      <th>release_year</th>\n",
       "      <td>0</td>\n",
       "      <td>0.00</td>\n",
       "    </tr>\n",
       "  </tbody>\n",
       "</table>\n",
       "</div>"
      ],
      "text/plain": [
       "              Total Missing  In Percent\n",
       "director               2634       29.91\n",
       "country                 831        9.44\n",
       "cast                    825        9.37\n",
       "date_added               10        0.11\n",
       "rating                    4        0.05\n",
       "duration                  3        0.03\n",
       "show_id                   0        0.00\n",
       "type                      0        0.00\n",
       "title                     0        0.00\n",
       "release_year              0        0.00"
      ]
     },
     "execution_count": 8,
     "metadata": {},
     "output_type": "execute_result"
    }
   ],
   "source": [
    "#Identifying Missing data. Already verified above. To be sure again checking.\n",
    "total_null = netflix_data.isnull().sum().sort_values(ascending = False)\n",
    "percent = ((netflix_data.isnull().sum()/netflix_data.isnull().count())*100).sort_values(ascending = False)\n",
    "print(\"Total records (Car Data) = \", netflix_data.shape[0])\n",
    "\n",
    "missing_data = pd.concat([total_null,percent.round(2)],axis=1,keys=['Total Missing','In Percent'])\n",
    "missing_data.head(10)"
   ]
  },
  {
   "cell_type": "markdown",
   "id": "c807d376",
   "metadata": {
    "papermill": {
     "duration": 0.061533,
     "end_time": "2022-02-07T18:54:48.455372",
     "exception": false,
     "start_time": "2022-02-07T18:54:48.393839",
     "status": "completed"
    },
    "tags": []
   },
   "source": [
    "### Inference \n",
    "  -  **0.11%** of total records have missing data for \"date_added\". **These records can be removed while analyzing the \"date_added\" feature.**\n",
    "  - Only **4 records** are missing for **rating feature** which can be fixed using **imputation technique.**\n",
    "  - Only **3 records** are missing for **duration** which can be fixed using **imputation technique.**\n",
    "  - Rest missing data will be addressed during the analysis of each column."
   ]
  },
  {
   "cell_type": "markdown",
   "id": "f4fd20de",
   "metadata": {
    "papermill": {
     "duration": 0.059751,
     "end_time": "2022-02-07T18:54:48.588906",
     "exception": false,
     "start_time": "2022-02-07T18:54:48.529155",
     "status": "completed"
    },
    "tags": []
   },
   "source": [
    "### Handling Missing  - ratings\n",
    "  - Using Imputation technique. Imputing the rating missing value with NR"
   ]
  },
  {
   "cell_type": "code",
   "execution_count": 9,
   "id": "72a68e47",
   "metadata": {
    "execution": {
     "iopub.execute_input": "2022-02-07T18:54:48.703986Z",
     "iopub.status.busy": "2022-02-07T18:54:48.703448Z",
     "iopub.status.idle": "2022-02-07T18:54:48.707903Z",
     "shell.execute_reply": "2022-02-07T18:54:48.708414Z",
     "shell.execute_reply.started": "2022-02-07T18:49:09.007651Z"
    },
    "papermill": {
     "duration": 0.063544,
     "end_time": "2022-02-07T18:54:48.708571",
     "exception": false,
     "start_time": "2022-02-07T18:54:48.645027",
     "status": "completed"
    },
    "tags": []
   },
   "outputs": [],
   "source": [
    "netflix_data['rating'].replace(to_replace = np.nan, value = \"NR\",inplace=True) "
   ]
  },
  {
   "cell_type": "markdown",
   "id": "7f1e5a0b",
   "metadata": {
    "papermill": {
     "duration": 0.055739,
     "end_time": "2022-02-07T18:54:48.821168",
     "exception": false,
     "start_time": "2022-02-07T18:54:48.765429",
     "status": "completed"
    },
    "tags": []
   },
   "source": [
    "### Handling missing value for Country."
   ]
  },
  {
   "cell_type": "code",
   "execution_count": 10,
   "id": "d0b1785d",
   "metadata": {
    "execution": {
     "iopub.execute_input": "2022-02-07T18:54:48.936127Z",
     "iopub.status.busy": "2022-02-07T18:54:48.935571Z",
     "iopub.status.idle": "2022-02-07T18:54:48.942685Z",
     "shell.execute_reply": "2022-02-07T18:54:48.943155Z",
     "shell.execute_reply.started": "2022-02-07T18:50:27.338315Z"
    },
    "papermill": {
     "duration": 0.066254,
     "end_time": "2022-02-07T18:54:48.943334",
     "exception": false,
     "start_time": "2022-02-07T18:54:48.877080",
     "status": "completed"
    },
    "tags": []
   },
   "outputs": [],
   "source": [
    "netflix_data['country'] = netflix_data['country'].fillna(netflix_data['country'].mode()[0])"
   ]
  },
  {
   "cell_type": "markdown",
   "id": "f878c5f4",
   "metadata": {
    "papermill": {
     "duration": 0.056623,
     "end_time": "2022-02-07T18:54:49.055711",
     "exception": false,
     "start_time": "2022-02-07T18:54:48.999088",
     "status": "completed"
    },
    "tags": []
   },
   "source": [
    "### Unique values (counts) for each Feature"
   ]
  },
  {
   "cell_type": "code",
   "execution_count": 11,
   "id": "c5fcf9d4",
   "metadata": {
    "execution": {
     "iopub.execute_input": "2022-02-07T18:54:49.171826Z",
     "iopub.status.busy": "2022-02-07T18:54:49.171262Z",
     "iopub.status.idle": "2022-02-07T18:54:49.192370Z",
     "shell.execute_reply": "2022-02-07T18:54:49.192896Z",
     "shell.execute_reply.started": "2022-02-07T18:49:09.016875Z"
    },
    "papermill": {
     "duration": 0.08153,
     "end_time": "2022-02-07T18:54:49.193064",
     "exception": false,
     "start_time": "2022-02-07T18:54:49.111534",
     "status": "completed"
    },
    "tags": []
   },
   "outputs": [
    {
     "data": {
      "text/plain": [
       "show_id         8807\n",
       "type               2\n",
       "title           8807\n",
       "director        4528\n",
       "cast            7692\n",
       "country          748\n",
       "date_added      1767\n",
       "release_year      74\n",
       "rating            17\n",
       "duration         220\n",
       "genres           514\n",
       "description     8775\n",
       "dtype: int64"
      ]
     },
     "execution_count": 11,
     "metadata": {},
     "output_type": "execute_result"
    }
   ],
   "source": [
    "netflix_data.nunique()"
   ]
  },
  {
   "cell_type": "markdown",
   "id": "2cad0d35",
   "metadata": {
    "papermill": {
     "duration": 0.056338,
     "end_time": "2022-02-07T18:54:49.307105",
     "exception": false,
     "start_time": "2022-02-07T18:54:49.250767",
     "status": "completed"
    },
    "tags": []
   },
   "source": [
    "### Inference \n",
    "  - dropping show ID as it is just for reference and no use.\n",
    "  - Feature description - 32 movies have the same description. This may be due to movies being released in different languages."
   ]
  },
  {
   "cell_type": "code",
   "execution_count": 12,
   "id": "24669ec2",
   "metadata": {
    "execution": {
     "iopub.execute_input": "2022-02-07T18:54:49.425344Z",
     "iopub.status.busy": "2022-02-07T18:54:49.424783Z",
     "iopub.status.idle": "2022-02-07T18:54:49.430335Z",
     "shell.execute_reply": "2022-02-07T18:54:49.430799Z",
     "shell.execute_reply.started": "2022-02-07T18:49:09.055992Z"
    },
    "papermill": {
     "duration": 0.065648,
     "end_time": "2022-02-07T18:54:49.430960",
     "exception": false,
     "start_time": "2022-02-07T18:54:49.365312",
     "status": "completed"
    },
    "tags": []
   },
   "outputs": [],
   "source": [
    "# dropping show ID as it is just for reference and no use.\n",
    "netflix_data = netflix_data.drop('show_id',axis=1)"
   ]
  },
  {
   "cell_type": "markdown",
   "id": "3869f4f3",
   "metadata": {
    "papermill": {
     "duration": 0.056331,
     "end_time": "2022-02-07T18:54:49.543865",
     "exception": false,
     "start_time": "2022-02-07T18:54:49.487534",
     "status": "completed"
    },
    "tags": []
   },
   "source": [
    "### Unique values (names) are checked for Features with a unique value count below 100"
   ]
  },
  {
   "cell_type": "code",
   "execution_count": 13,
   "id": "6b036dc0",
   "metadata": {
    "execution": {
     "iopub.execute_input": "2022-02-07T18:54:49.659187Z",
     "iopub.status.busy": "2022-02-07T18:54:49.658629Z",
     "iopub.status.idle": "2022-02-07T18:54:49.664016Z",
     "shell.execute_reply": "2022-02-07T18:54:49.664539Z",
     "shell.execute_reply.started": "2022-02-07T18:49:09.064668Z"
    },
    "papermill": {
     "duration": 0.064812,
     "end_time": "2022-02-07T18:54:49.664703",
     "exception": false,
     "start_time": "2022-02-07T18:54:49.599891",
     "status": "completed"
    },
    "tags": []
   },
   "outputs": [
    {
     "data": {
      "text/plain": [
       "array(['Movie', 'TV Show'], dtype=object)"
      ]
     },
     "execution_count": 13,
     "metadata": {},
     "output_type": "execute_result"
    }
   ],
   "source": [
    "netflix_data['type'].unique()"
   ]
  },
  {
   "cell_type": "code",
   "execution_count": 14,
   "id": "22998d4f",
   "metadata": {
    "execution": {
     "iopub.execute_input": "2022-02-07T18:54:49.783076Z",
     "iopub.status.busy": "2022-02-07T18:54:49.782520Z",
     "iopub.status.idle": "2022-02-07T18:54:49.787408Z",
     "shell.execute_reply": "2022-02-07T18:54:49.787849Z",
     "shell.execute_reply.started": "2022-02-07T18:49:09.082364Z"
    },
    "papermill": {
     "duration": 0.06668,
     "end_time": "2022-02-07T18:54:49.788004",
     "exception": false,
     "start_time": "2022-02-07T18:54:49.721324",
     "status": "completed"
    },
    "tags": []
   },
   "outputs": [
    {
     "data": {
      "text/plain": [
       "array(['PG-13', 'TV-MA', 'PG', 'TV-14', 'TV-PG', 'TV-Y', 'TV-Y7', 'R',\n",
       "       'TV-G', 'G', 'NC-17', '74 min', '84 min', '66 min', 'NR',\n",
       "       'TV-Y7-FV', 'UR'], dtype=object)"
      ]
     },
     "execution_count": 14,
     "metadata": {},
     "output_type": "execute_result"
    }
   ],
   "source": [
    "netflix_data['rating'].unique()"
   ]
  },
  {
   "cell_type": "markdown",
   "id": "eac66e64",
   "metadata": {
    "papermill": {
     "duration": 0.056952,
     "end_time": "2022-02-07T18:54:49.902086",
     "exception": false,
     "start_time": "2022-02-07T18:54:49.845134",
     "status": "completed"
    },
    "tags": []
   },
   "source": [
    "### Inference\n",
    "  - for **rating** feature value cannot be duration of the movie. Hence need to be fixed.\n",
    "  - There were **3 missing records** for duration which are actually part of rating feature"
   ]
  },
  {
   "cell_type": "markdown",
   "id": "44956944",
   "metadata": {
    "papermill": {
     "duration": 0.056805,
     "end_time": "2022-02-07T18:54:50.016356",
     "exception": false,
     "start_time": "2022-02-07T18:54:49.959551",
     "status": "completed"
    },
    "tags": []
   },
   "source": [
    "### Using imputation technique to replace the duration feature value to with 74 min, 84 min and 66 min"
   ]
  },
  {
   "cell_type": "code",
   "execution_count": 15,
   "id": "3fe0ac88",
   "metadata": {
    "execution": {
     "iopub.execute_input": "2022-02-07T18:54:50.133402Z",
     "iopub.status.busy": "2022-02-07T18:54:50.132821Z",
     "iopub.status.idle": "2022-02-07T18:54:50.146422Z",
     "shell.execute_reply": "2022-02-07T18:54:50.145697Z",
     "shell.execute_reply.started": "2022-02-07T18:49:09.096417Z"
    },
    "papermill": {
     "duration": 0.073089,
     "end_time": "2022-02-07T18:54:50.146621",
     "exception": false,
     "start_time": "2022-02-07T18:54:50.073532",
     "status": "completed"
    },
    "tags": []
   },
   "outputs": [
    {
     "name": "stdout",
     "output_type": "stream",
     "text": [
      "        director        cast          date_added duration\n",
      "5541  Louis C.K.  Louis C.K.       April 4, 2017      NaN\n",
      "5794  Louis C.K.  Louis C.K.  September 16, 2016      NaN\n",
      "5813  Louis C.K.  Louis C.K.     August 15, 2016      NaN\n"
     ]
    }
   ],
   "source": [
    "null_columns=netflix_data.columns[netflix_data.isnull().any()]\n",
    "print(netflix_data[netflix_data[\"duration\"].isnull()][null_columns])"
   ]
  },
  {
   "cell_type": "code",
   "execution_count": 16,
   "id": "7024622c",
   "metadata": {
    "execution": {
     "iopub.execute_input": "2022-02-07T18:54:50.265969Z",
     "iopub.status.busy": "2022-02-07T18:54:50.265404Z",
     "iopub.status.idle": "2022-02-07T18:54:50.278435Z",
     "shell.execute_reply": "2022-02-07T18:54:50.278872Z",
     "shell.execute_reply.started": "2022-02-07T18:49:09.125826Z"
    },
    "papermill": {
     "duration": 0.073325,
     "end_time": "2022-02-07T18:54:50.279036",
     "exception": false,
     "start_time": "2022-02-07T18:54:50.205711",
     "status": "completed"
    },
    "tags": []
   },
   "outputs": [
    {
     "data": {
      "text/html": [
       "<div>\n",
       "<style scoped>\n",
       "    .dataframe tbody tr th:only-of-type {\n",
       "        vertical-align: middle;\n",
       "    }\n",
       "\n",
       "    .dataframe tbody tr th {\n",
       "        vertical-align: top;\n",
       "    }\n",
       "\n",
       "    .dataframe thead th {\n",
       "        text-align: right;\n",
       "    }\n",
       "</style>\n",
       "<table border=\"1\" class=\"dataframe\">\n",
       "  <thead>\n",
       "    <tr style=\"text-align: right;\">\n",
       "      <th></th>\n",
       "      <th>type</th>\n",
       "      <th>title</th>\n",
       "      <th>director</th>\n",
       "      <th>cast</th>\n",
       "      <th>country</th>\n",
       "      <th>date_added</th>\n",
       "      <th>release_year</th>\n",
       "      <th>rating</th>\n",
       "      <th>duration</th>\n",
       "      <th>genres</th>\n",
       "      <th>description</th>\n",
       "    </tr>\n",
       "  </thead>\n",
       "  <tbody>\n",
       "    <tr>\n",
       "      <th>5541</th>\n",
       "      <td>Movie</td>\n",
       "      <td>Louis C.K. 2017</td>\n",
       "      <td>Louis C.K.</td>\n",
       "      <td>Louis C.K.</td>\n",
       "      <td>United States</td>\n",
       "      <td>April 4, 2017</td>\n",
       "      <td>2017</td>\n",
       "      <td>74 min</td>\n",
       "      <td>NaN</td>\n",
       "      <td>Movies</td>\n",
       "      <td>Louis C.K. muses on religion, eternal love, gi...</td>\n",
       "    </tr>\n",
       "  </tbody>\n",
       "</table>\n",
       "</div>"
      ],
      "text/plain": [
       "       type            title    director        cast        country  \\\n",
       "5541  Movie  Louis C.K. 2017  Louis C.K.  Louis C.K.  United States   \n",
       "\n",
       "         date_added  release_year  rating duration  genres  \\\n",
       "5541  April 4, 2017          2017  74 min      NaN  Movies   \n",
       "\n",
       "                                            description  \n",
       "5541  Louis C.K. muses on religion, eternal love, gi...  "
      ]
     },
     "execution_count": 16,
     "metadata": {},
     "output_type": "execute_result"
    }
   ],
   "source": [
    "netflix_data.loc[netflix_data['rating'] == '74 min']"
   ]
  },
  {
   "cell_type": "code",
   "execution_count": 17,
   "id": "db823c66",
   "metadata": {
    "execution": {
     "iopub.execute_input": "2022-02-07T18:54:50.397169Z",
     "iopub.status.busy": "2022-02-07T18:54:50.396581Z",
     "iopub.status.idle": "2022-02-07T18:54:50.408516Z",
     "shell.execute_reply": "2022-02-07T18:54:50.408927Z",
     "shell.execute_reply.started": "2022-02-07T18:49:09.150897Z"
    },
    "papermill": {
     "duration": 0.072598,
     "end_time": "2022-02-07T18:54:50.409098",
     "exception": false,
     "start_time": "2022-02-07T18:54:50.336500",
     "status": "completed"
    },
    "tags": []
   },
   "outputs": [
    {
     "data": {
      "text/html": [
       "<div>\n",
       "<style scoped>\n",
       "    .dataframe tbody tr th:only-of-type {\n",
       "        vertical-align: middle;\n",
       "    }\n",
       "\n",
       "    .dataframe tbody tr th {\n",
       "        vertical-align: top;\n",
       "    }\n",
       "\n",
       "    .dataframe thead th {\n",
       "        text-align: right;\n",
       "    }\n",
       "</style>\n",
       "<table border=\"1\" class=\"dataframe\">\n",
       "  <thead>\n",
       "    <tr style=\"text-align: right;\">\n",
       "      <th></th>\n",
       "      <th>type</th>\n",
       "      <th>title</th>\n",
       "      <th>director</th>\n",
       "      <th>cast</th>\n",
       "      <th>country</th>\n",
       "      <th>date_added</th>\n",
       "      <th>release_year</th>\n",
       "      <th>rating</th>\n",
       "      <th>duration</th>\n",
       "      <th>genres</th>\n",
       "      <th>description</th>\n",
       "    </tr>\n",
       "  </thead>\n",
       "  <tbody>\n",
       "    <tr>\n",
       "      <th>5794</th>\n",
       "      <td>Movie</td>\n",
       "      <td>Louis C.K.: Hilarious</td>\n",
       "      <td>Louis C.K.</td>\n",
       "      <td>Louis C.K.</td>\n",
       "      <td>United States</td>\n",
       "      <td>September 16, 2016</td>\n",
       "      <td>2010</td>\n",
       "      <td>84 min</td>\n",
       "      <td>NaN</td>\n",
       "      <td>Movies</td>\n",
       "      <td>Emmy-winning comedy writer Louis C.K. brings h...</td>\n",
       "    </tr>\n",
       "  </tbody>\n",
       "</table>\n",
       "</div>"
      ],
      "text/plain": [
       "       type                  title    director        cast        country  \\\n",
       "5794  Movie  Louis C.K.: Hilarious  Louis C.K.  Louis C.K.  United States   \n",
       "\n",
       "              date_added  release_year  rating duration  genres  \\\n",
       "5794  September 16, 2016          2010  84 min      NaN  Movies   \n",
       "\n",
       "                                            description  \n",
       "5794  Emmy-winning comedy writer Louis C.K. brings h...  "
      ]
     },
     "execution_count": 17,
     "metadata": {},
     "output_type": "execute_result"
    }
   ],
   "source": [
    "netflix_data.loc[netflix_data['rating'] == '84 min']"
   ]
  },
  {
   "cell_type": "code",
   "execution_count": 18,
   "id": "4b36786b",
   "metadata": {
    "execution": {
     "iopub.execute_input": "2022-02-07T18:54:50.528333Z",
     "iopub.status.busy": "2022-02-07T18:54:50.527400Z",
     "iopub.status.idle": "2022-02-07T18:54:50.539763Z",
     "shell.execute_reply": "2022-02-07T18:54:50.540292Z",
     "shell.execute_reply.started": "2022-02-07T18:49:09.169720Z"
    },
    "papermill": {
     "duration": 0.073741,
     "end_time": "2022-02-07T18:54:50.540453",
     "exception": false,
     "start_time": "2022-02-07T18:54:50.466712",
     "status": "completed"
    },
    "tags": []
   },
   "outputs": [
    {
     "data": {
      "text/html": [
       "<div>\n",
       "<style scoped>\n",
       "    .dataframe tbody tr th:only-of-type {\n",
       "        vertical-align: middle;\n",
       "    }\n",
       "\n",
       "    .dataframe tbody tr th {\n",
       "        vertical-align: top;\n",
       "    }\n",
       "\n",
       "    .dataframe thead th {\n",
       "        text-align: right;\n",
       "    }\n",
       "</style>\n",
       "<table border=\"1\" class=\"dataframe\">\n",
       "  <thead>\n",
       "    <tr style=\"text-align: right;\">\n",
       "      <th></th>\n",
       "      <th>type</th>\n",
       "      <th>title</th>\n",
       "      <th>director</th>\n",
       "      <th>cast</th>\n",
       "      <th>country</th>\n",
       "      <th>date_added</th>\n",
       "      <th>release_year</th>\n",
       "      <th>rating</th>\n",
       "      <th>duration</th>\n",
       "      <th>genres</th>\n",
       "      <th>description</th>\n",
       "    </tr>\n",
       "  </thead>\n",
       "  <tbody>\n",
       "    <tr>\n",
       "      <th>5813</th>\n",
       "      <td>Movie</td>\n",
       "      <td>Louis C.K.: Live at the Comedy Store</td>\n",
       "      <td>Louis C.K.</td>\n",
       "      <td>Louis C.K.</td>\n",
       "      <td>United States</td>\n",
       "      <td>August 15, 2016</td>\n",
       "      <td>2015</td>\n",
       "      <td>66 min</td>\n",
       "      <td>NaN</td>\n",
       "      <td>Movies</td>\n",
       "      <td>The comic puts his trademark hilarious/thought...</td>\n",
       "    </tr>\n",
       "  </tbody>\n",
       "</table>\n",
       "</div>"
      ],
      "text/plain": [
       "       type                                 title    director        cast  \\\n",
       "5813  Movie  Louis C.K.: Live at the Comedy Store  Louis C.K.  Louis C.K.   \n",
       "\n",
       "            country       date_added  release_year  rating duration  genres  \\\n",
       "5813  United States  August 15, 2016          2015  66 min      NaN  Movies   \n",
       "\n",
       "                                            description  \n",
       "5813  The comic puts his trademark hilarious/thought...  "
      ]
     },
     "execution_count": 18,
     "metadata": {},
     "output_type": "execute_result"
    }
   ],
   "source": [
    "netflix_data.loc[netflix_data['rating'] == '66 min']"
   ]
  },
  {
   "cell_type": "code",
   "execution_count": 19,
   "id": "e6daf53a",
   "metadata": {
    "execution": {
     "iopub.execute_input": "2022-02-07T18:54:50.659300Z",
     "iopub.status.busy": "2022-02-07T18:54:50.658740Z",
     "iopub.status.idle": "2022-02-07T18:54:50.663621Z",
     "shell.execute_reply": "2022-02-07T18:54:50.664104Z",
     "shell.execute_reply.started": "2022-02-07T18:49:09.188920Z"
    },
    "papermill": {
     "duration": 0.065903,
     "end_time": "2022-02-07T18:54:50.664278",
     "exception": false,
     "start_time": "2022-02-07T18:54:50.598375",
     "status": "completed"
    },
    "tags": []
   },
   "outputs": [],
   "source": [
    "# Updated the correct duration value.\n",
    "netflix_data.loc[5541,'duration'] = '74 min'\n",
    "netflix_data.loc[5794,'duration'] = '84 min'\n",
    "netflix_data.loc[5813,'duration'] = '66 min'"
   ]
  },
  {
   "cell_type": "code",
   "execution_count": 20,
   "id": "04354e4e",
   "metadata": {
    "execution": {
     "iopub.execute_input": "2022-02-07T18:54:50.784756Z",
     "iopub.status.busy": "2022-02-07T18:54:50.784145Z",
     "iopub.status.idle": "2022-02-07T18:54:50.812148Z",
     "shell.execute_reply": "2022-02-07T18:54:50.812635Z",
     "shell.execute_reply.started": "2022-02-07T18:49:09.204632Z"
    },
    "papermill": {
     "duration": 0.089934,
     "end_time": "2022-02-07T18:54:50.812796",
     "exception": false,
     "start_time": "2022-02-07T18:54:50.722862",
     "status": "completed"
    },
    "tags": []
   },
   "outputs": [
    {
     "name": "stdout",
     "output_type": "stream",
     "text": [
      "Total records =  8807\n"
     ]
    },
    {
     "data": {
      "text/html": [
       "<div>\n",
       "<style scoped>\n",
       "    .dataframe tbody tr th:only-of-type {\n",
       "        vertical-align: middle;\n",
       "    }\n",
       "\n",
       "    .dataframe tbody tr th {\n",
       "        vertical-align: top;\n",
       "    }\n",
       "\n",
       "    .dataframe thead th {\n",
       "        text-align: right;\n",
       "    }\n",
       "</style>\n",
       "<table border=\"1\" class=\"dataframe\">\n",
       "  <thead>\n",
       "    <tr style=\"text-align: right;\">\n",
       "      <th></th>\n",
       "      <th>Total Missing</th>\n",
       "      <th>In Percent</th>\n",
       "    </tr>\n",
       "  </thead>\n",
       "  <tbody>\n",
       "    <tr>\n",
       "      <th>director</th>\n",
       "      <td>2634</td>\n",
       "      <td>29.91</td>\n",
       "    </tr>\n",
       "    <tr>\n",
       "      <th>cast</th>\n",
       "      <td>825</td>\n",
       "      <td>9.37</td>\n",
       "    </tr>\n",
       "    <tr>\n",
       "      <th>date_added</th>\n",
       "      <td>10</td>\n",
       "      <td>0.11</td>\n",
       "    </tr>\n",
       "    <tr>\n",
       "      <th>type</th>\n",
       "      <td>0</td>\n",
       "      <td>0.00</td>\n",
       "    </tr>\n",
       "  </tbody>\n",
       "</table>\n",
       "</div>"
      ],
      "text/plain": [
       "            Total Missing  In Percent\n",
       "director             2634       29.91\n",
       "cast                  825        9.37\n",
       "date_added             10        0.11\n",
       "type                    0        0.00"
      ]
     },
     "execution_count": 20,
     "metadata": {},
     "output_type": "execute_result"
    }
   ],
   "source": [
    "#Identifying Missing data. Already verified above. To be sure again checking.\n",
    "total_null = netflix_data.isnull().sum().sort_values(ascending = False)\n",
    "percent = ((netflix_data.isnull().sum()/netflix_data.isnull().count())*100).sort_values(ascending = False)\n",
    "print(\"Total records = \", netflix_data.shape[0])\n",
    "\n",
    "missing_data = pd.concat([total_null,percent.round(2)],axis=1,keys=['Total Missing','In Percent'])\n",
    "missing_data.head(4)"
   ]
  },
  {
   "cell_type": "markdown",
   "id": "0f8cc1f6",
   "metadata": {
    "papermill": {
     "duration": 0.058098,
     "end_time": "2022-02-07T18:54:50.929354",
     "exception": false,
     "start_time": "2022-02-07T18:54:50.871256",
     "status": "completed"
    },
    "tags": []
   },
   "source": [
    "### Using imputation technique to replace the **duration** value to **'NR'**"
   ]
  },
  {
   "cell_type": "code",
   "execution_count": 21,
   "id": "6c1e8055",
   "metadata": {
    "execution": {
     "iopub.execute_input": "2022-02-07T18:54:51.050007Z",
     "iopub.status.busy": "2022-02-07T18:54:51.049105Z",
     "iopub.status.idle": "2022-02-07T18:54:51.056557Z",
     "shell.execute_reply": "2022-02-07T18:54:51.056998Z",
     "shell.execute_reply.started": "2022-02-07T18:49:09.257847Z"
    },
    "papermill": {
     "duration": 0.069161,
     "end_time": "2022-02-07T18:54:51.057160",
     "exception": false,
     "start_time": "2022-02-07T18:54:50.987999",
     "status": "completed"
    },
    "tags": []
   },
   "outputs": [],
   "source": [
    "netflix_data['rating'].replace({'74 min':'NR'},inplace=True)\n",
    "netflix_data['rating'].replace({'84 min':'NR'},inplace=True)\n",
    "netflix_data['rating'].replace({'66 min':'NR'},inplace=True)"
   ]
  },
  {
   "cell_type": "code",
   "execution_count": 22,
   "id": "91c9cb26",
   "metadata": {
    "execution": {
     "iopub.execute_input": "2022-02-07T18:54:51.177461Z",
     "iopub.status.busy": "2022-02-07T18:54:51.176593Z",
     "iopub.status.idle": "2022-02-07T18:54:51.181721Z",
     "shell.execute_reply": "2022-02-07T18:54:51.182130Z",
     "shell.execute_reply.started": "2022-02-07T18:49:09.272784Z"
    },
    "papermill": {
     "duration": 0.066839,
     "end_time": "2022-02-07T18:54:51.182312",
     "exception": false,
     "start_time": "2022-02-07T18:54:51.115473",
     "status": "completed"
    },
    "tags": []
   },
   "outputs": [
    {
     "data": {
      "text/plain": [
       "array([2020, 2021, 1993, 2018, 1996, 1998, 1997, 2010, 2013, 2017, 1975,\n",
       "       1978, 1983, 1987, 2012, 2001, 2014, 2002, 2003, 2004, 2011, 2008,\n",
       "       2009, 2007, 2005, 2006, 1994, 2015, 2019, 2016, 1982, 1989, 1990,\n",
       "       1991, 1999, 1986, 1992, 1984, 1980, 1961, 2000, 1995, 1985, 1976,\n",
       "       1959, 1988, 1981, 1972, 1964, 1945, 1954, 1979, 1958, 1956, 1963,\n",
       "       1970, 1973, 1925, 1974, 1960, 1966, 1971, 1962, 1969, 1977, 1967,\n",
       "       1968, 1965, 1946, 1942, 1955, 1944, 1947, 1943])"
      ]
     },
     "execution_count": 22,
     "metadata": {},
     "output_type": "execute_result"
    }
   ],
   "source": [
    "netflix_data['release_year'].unique()"
   ]
  },
  {
   "cell_type": "markdown",
   "id": "203d454c",
   "metadata": {
    "papermill": {
     "duration": 0.058805,
     "end_time": "2022-02-07T18:54:51.301161",
     "exception": false,
     "start_time": "2022-02-07T18:54:51.242356",
     "status": "completed"
    },
    "tags": []
   },
   "source": [
    "## Data Preparation"
   ]
  },
  {
   "cell_type": "markdown",
   "id": "2a9f3667",
   "metadata": {
    "papermill": {
     "duration": 0.058677,
     "end_time": "2022-02-07T18:54:51.418647",
     "exception": false,
     "start_time": "2022-02-07T18:54:51.359970",
     "status": "completed"
    },
    "tags": []
   },
   "source": [
    "### DataType Validation"
   ]
  },
  {
   "cell_type": "code",
   "execution_count": 23,
   "id": "6e45ccc3",
   "metadata": {
    "execution": {
     "iopub.execute_input": "2022-02-07T18:54:51.539770Z",
     "iopub.status.busy": "2022-02-07T18:54:51.538906Z",
     "iopub.status.idle": "2022-02-07T18:54:51.556687Z",
     "shell.execute_reply": "2022-02-07T18:54:51.557270Z",
     "shell.execute_reply.started": "2022-02-07T18:49:09.283361Z"
    },
    "papermill": {
     "duration": 0.079915,
     "end_time": "2022-02-07T18:54:51.557501",
     "exception": false,
     "start_time": "2022-02-07T18:54:51.477586",
     "status": "completed"
    },
    "tags": []
   },
   "outputs": [
    {
     "name": "stdout",
     "output_type": "stream",
     "text": [
      "<class 'pandas.core.frame.DataFrame'>\n",
      "Int64Index: 8807 entries, 0 to 8806\n",
      "Data columns (total 11 columns):\n",
      " #   Column        Non-Null Count  Dtype \n",
      "---  ------        --------------  ----- \n",
      " 0   type          8807 non-null   object\n",
      " 1   title         8807 non-null   object\n",
      " 2   director      6173 non-null   object\n",
      " 3   cast          7982 non-null   object\n",
      " 4   country       8807 non-null   object\n",
      " 5   date_added    8797 non-null   object\n",
      " 6   release_year  8807 non-null   int64 \n",
      " 7   rating        8807 non-null   object\n",
      " 8   duration      8807 non-null   object\n",
      " 9   genres        8807 non-null   object\n",
      " 10  description   8807 non-null   object\n",
      "dtypes: int64(1), object(10)\n",
      "memory usage: 1.1+ MB\n"
     ]
    }
   ],
   "source": [
    "netflix_data.info()"
   ]
  },
  {
   "cell_type": "markdown",
   "id": "1271943e",
   "metadata": {
    "papermill": {
     "duration": 0.058759,
     "end_time": "2022-02-07T18:54:51.676719",
     "exception": false,
     "start_time": "2022-02-07T18:54:51.617960",
     "status": "completed"
    },
    "tags": []
   },
   "source": [
    "### Inference \n",
    "  - date_added is a datetime data type , hence need to update the dtype"
   ]
  },
  {
   "cell_type": "code",
   "execution_count": 24,
   "id": "014e43ab",
   "metadata": {
    "execution": {
     "iopub.execute_input": "2022-02-07T18:54:51.807927Z",
     "iopub.status.busy": "2022-02-07T18:54:51.806991Z",
     "iopub.status.idle": "2022-02-07T18:54:51.966358Z",
     "shell.execute_reply": "2022-02-07T18:54:51.966887Z",
     "shell.execute_reply.started": "2022-02-07T18:49:09.319658Z"
    },
    "papermill": {
     "duration": 0.231326,
     "end_time": "2022-02-07T18:54:51.967076",
     "exception": false,
     "start_time": "2022-02-07T18:54:51.735750",
     "status": "completed"
    },
    "tags": []
   },
   "outputs": [],
   "source": [
    "netflix_data[\"date_added\"] = pd.to_datetime(netflix_data['date_added'])"
   ]
  },
  {
   "cell_type": "code",
   "execution_count": 25,
   "id": "6111f1dc",
   "metadata": {
    "execution": {
     "iopub.execute_input": "2022-02-07T18:54:52.091018Z",
     "iopub.status.busy": "2022-02-07T18:54:52.089922Z",
     "iopub.status.idle": "2022-02-07T18:54:52.105715Z",
     "shell.execute_reply": "2022-02-07T18:54:52.106134Z",
     "shell.execute_reply.started": "2022-02-07T18:49:09.531956Z"
    },
    "papermill": {
     "duration": 0.078681,
     "end_time": "2022-02-07T18:54:52.106315",
     "exception": false,
     "start_time": "2022-02-07T18:54:52.027634",
     "status": "completed"
    },
    "tags": []
   },
   "outputs": [
    {
     "name": "stdout",
     "output_type": "stream",
     "text": [
      "<class 'pandas.core.frame.DataFrame'>\n",
      "Int64Index: 8807 entries, 0 to 8806\n",
      "Data columns (total 11 columns):\n",
      " #   Column        Non-Null Count  Dtype         \n",
      "---  ------        --------------  -----         \n",
      " 0   type          8807 non-null   object        \n",
      " 1   title         8807 non-null   object        \n",
      " 2   director      6173 non-null   object        \n",
      " 3   cast          7982 non-null   object        \n",
      " 4   country       8807 non-null   object        \n",
      " 5   date_added    8797 non-null   datetime64[ns]\n",
      " 6   release_year  8807 non-null   int64         \n",
      " 7   rating        8807 non-null   object        \n",
      " 8   duration      8807 non-null   object        \n",
      " 9   genres        8807 non-null   object        \n",
      " 10  description   8807 non-null   object        \n",
      "dtypes: datetime64[ns](1), int64(1), object(9)\n",
      "memory usage: 1.1+ MB\n"
     ]
    }
   ],
   "source": [
    "netflix_data.info()"
   ]
  },
  {
   "cell_type": "markdown",
   "id": "7d71d088",
   "metadata": {
    "papermill": {
     "duration": 0.058703,
     "end_time": "2022-02-07T18:54:52.224370",
     "exception": false,
     "start_time": "2022-02-07T18:54:52.165667",
     "status": "completed"
    },
    "tags": []
   },
   "source": [
    "### Dervied Columns\n",
    "\n",
    "  - Added new feature - **\"Year Added\"** from the **date_added** feature\n",
    "  - Added new feature - **\"Month Added\"** from the **date_added** feature\n",
    "  - Added new feature - **\"Day Added\"** from the **date_added** feature\n",
    "  - Added new feature - **\"Weekday Added\"** from the **date_added** feature\n",
    "  - Added new feature - **rating Category** based on whether the content is suitable for **Kids, Teenagers and Adults**\n",
    "  - Added new feature - **Season Count** for each TV shows."
   ]
  },
  {
   "cell_type": "code",
   "execution_count": 26,
   "id": "3ec57420",
   "metadata": {
    "execution": {
     "iopub.execute_input": "2022-02-07T18:54:52.347006Z",
     "iopub.status.busy": "2022-02-07T18:54:52.346450Z",
     "iopub.status.idle": "2022-02-07T18:54:52.349812Z",
     "shell.execute_reply": "2022-02-07T18:54:52.350247Z",
     "shell.execute_reply.started": "2022-02-07T18:49:09.556068Z"
    },
    "papermill": {
     "duration": 0.065706,
     "end_time": "2022-02-07T18:54:52.350414",
     "exception": false,
     "start_time": "2022-02-07T18:54:52.284708",
     "status": "completed"
    },
    "tags": []
   },
   "outputs": [],
   "source": [
    "# Creating the copy of the day before manipulating the date time information.\n",
    "netflix_date = netflix_data.copy()"
   ]
  },
  {
   "cell_type": "code",
   "execution_count": 27,
   "id": "f1dfba71",
   "metadata": {
    "execution": {
     "iopub.execute_input": "2022-02-07T18:54:52.472284Z",
     "iopub.status.busy": "2022-02-07T18:54:52.471668Z",
     "iopub.status.idle": "2022-02-07T18:54:52.475608Z",
     "shell.execute_reply": "2022-02-07T18:54:52.476034Z",
     "shell.execute_reply.started": "2022-02-07T18:49:09.562722Z"
    },
    "papermill": {
     "duration": 0.06624,
     "end_time": "2022-02-07T18:54:52.476185",
     "exception": false,
     "start_time": "2022-02-07T18:54:52.409945",
     "status": "completed"
    },
    "tags": []
   },
   "outputs": [
    {
     "data": {
      "text/plain": [
       "(8807, 11)"
      ]
     },
     "execution_count": 27,
     "metadata": {},
     "output_type": "execute_result"
    }
   ],
   "source": [
    "netflix_date.shape"
   ]
  },
  {
   "cell_type": "markdown",
   "id": "f84eb829",
   "metadata": {
    "papermill": {
     "duration": 0.059768,
     "end_time": "2022-02-07T18:54:52.596473",
     "exception": false,
     "start_time": "2022-02-07T18:54:52.536705",
     "status": "completed"
    },
    "tags": []
   },
   "source": [
    "### Removed the missing values before Analysising"
   ]
  },
  {
   "cell_type": "code",
   "execution_count": 28,
   "id": "52d98f3a",
   "metadata": {
    "execution": {
     "iopub.execute_input": "2022-02-07T18:54:52.722991Z",
     "iopub.status.busy": "2022-02-07T18:54:52.721952Z",
     "iopub.status.idle": "2022-02-07T18:54:52.728565Z",
     "shell.execute_reply": "2022-02-07T18:54:52.727957Z",
     "shell.execute_reply.started": "2022-02-07T18:49:09.578890Z"
    },
    "papermill": {
     "duration": 0.072214,
     "end_time": "2022-02-07T18:54:52.728704",
     "exception": false,
     "start_time": "2022-02-07T18:54:52.656490",
     "status": "completed"
    },
    "tags": []
   },
   "outputs": [],
   "source": [
    "netflix_date.dropna(subset = ['date_added'],inplace= True)"
   ]
  },
  {
   "cell_type": "code",
   "execution_count": 29,
   "id": "8aa5c350",
   "metadata": {
    "execution": {
     "iopub.execute_input": "2022-02-07T18:54:52.853679Z",
     "iopub.status.busy": "2022-02-07T18:54:52.853003Z",
     "iopub.status.idle": "2022-02-07T18:54:52.855375Z",
     "shell.execute_reply": "2022-02-07T18:54:52.855780Z",
     "shell.execute_reply.started": "2022-02-07T18:49:09.599024Z"
    },
    "papermill": {
     "duration": 0.066967,
     "end_time": "2022-02-07T18:54:52.855933",
     "exception": false,
     "start_time": "2022-02-07T18:54:52.788966",
     "status": "completed"
    },
    "tags": []
   },
   "outputs": [
    {
     "data": {
      "text/plain": [
       "(8797, 11)"
      ]
     },
     "execution_count": 29,
     "metadata": {},
     "output_type": "execute_result"
    }
   ],
   "source": [
    "netflix_date.shape"
   ]
  },
  {
   "cell_type": "markdown",
   "id": "5f2acb3b",
   "metadata": {
    "papermill": {
     "duration": 0.059837,
     "end_time": "2022-02-07T18:54:52.975674",
     "exception": false,
     "start_time": "2022-02-07T18:54:52.915837",
     "status": "completed"
    },
    "tags": []
   },
   "source": [
    "### New feature Added - year_added,month_added,day_added & Weekday_added"
   ]
  },
  {
   "cell_type": "code",
   "execution_count": 30,
   "id": "4a770720",
   "metadata": {
    "execution": {
     "iopub.execute_input": "2022-02-07T18:54:53.102818Z",
     "iopub.status.busy": "2022-02-07T18:54:53.098768Z",
     "iopub.status.idle": "2022-02-07T18:54:53.757423Z",
     "shell.execute_reply": "2022-02-07T18:54:53.757909Z",
     "shell.execute_reply.started": "2022-02-07T18:49:09.607776Z"
    },
    "papermill": {
     "duration": 0.722229,
     "end_time": "2022-02-07T18:54:53.758092",
     "exception": false,
     "start_time": "2022-02-07T18:54:53.035863",
     "status": "completed"
    },
    "tags": []
   },
   "outputs": [],
   "source": [
    "netflix_date[\"year_added\"] = netflix_date['date_added'].dt.year\n",
    "netflix_date[\"year_added\"] = netflix_date[\"year_added\"].astype(\"Int64\")\n",
    "netflix_date[\"month_added\"] = netflix_date['date_added'].dt.month\n",
    "netflix_date[\"month_added\"] = netflix_date[\"month_added\"].astype(\"Int64\")\n",
    "netflix_date[\"day_added\"] = netflix_date['date_added'].dt.day\n",
    "netflix_date[\"day_added\"] = netflix_date[\"day_added\"].astype(\"Int64\")\n",
    "netflix_date['Weekday_added'] = netflix_date['date_added'].apply(lambda x: parse(str(x)).strftime(\"%A\"))"
   ]
  },
  {
   "cell_type": "code",
   "execution_count": 31,
   "id": "5071cd37",
   "metadata": {
    "execution": {
     "iopub.execute_input": "2022-02-07T18:54:53.889899Z",
     "iopub.status.busy": "2022-02-07T18:54:53.888952Z",
     "iopub.status.idle": "2022-02-07T18:54:53.900313Z",
     "shell.execute_reply": "2022-02-07T18:54:53.900728Z",
     "shell.execute_reply.started": "2022-02-07T18:49:10.482825Z"
    },
    "papermill": {
     "duration": 0.080195,
     "end_time": "2022-02-07T18:54:53.900914",
     "exception": false,
     "start_time": "2022-02-07T18:54:53.820719",
     "status": "completed"
    },
    "tags": []
   },
   "outputs": [
    {
     "name": "stdout",
     "output_type": "stream",
     "text": [
      "<class 'pandas.core.frame.DataFrame'>\n",
      "Int64Index: 8797 entries, 0 to 8806\n",
      "Data columns (total 15 columns):\n",
      " #   Column         Non-Null Count  Dtype         \n",
      "---  ------         --------------  -----         \n",
      " 0   type           8797 non-null   object        \n",
      " 1   title          8797 non-null   object        \n",
      " 2   director       6173 non-null   object        \n",
      " 3   cast           7972 non-null   object        \n",
      " 4   country        8797 non-null   object        \n",
      " 5   date_added     8797 non-null   datetime64[ns]\n",
      " 6   release_year   8797 non-null   int64         \n",
      " 7   rating         8797 non-null   object        \n",
      " 8   duration       8797 non-null   object        \n",
      " 9   genres         8797 non-null   object        \n",
      " 10  description    8797 non-null   object        \n",
      " 11  year_added     8797 non-null   Int64         \n",
      " 12  month_added    8797 non-null   Int64         \n",
      " 13  day_added      8797 non-null   Int64         \n",
      " 14  Weekday_added  8797 non-null   object        \n",
      "dtypes: Int64(3), datetime64[ns](1), int64(1), object(10)\n",
      "memory usage: 1.1+ MB\n"
     ]
    }
   ],
   "source": [
    "netflix_date.info()"
   ]
  },
  {
   "cell_type": "markdown",
   "id": "78e0be76",
   "metadata": {
    "papermill": {
     "duration": 0.060243,
     "end_time": "2022-02-07T18:54:54.022895",
     "exception": false,
     "start_time": "2022-02-07T18:54:53.962652",
     "status": "completed"
    },
    "tags": []
   },
   "source": [
    "### New Feature added \"ratings_cat\""
   ]
  },
  {
   "cell_type": "markdown",
   "id": "c7b9d36f",
   "metadata": {
    "papermill": {
     "duration": 0.060451,
     "end_time": "2022-02-07T18:54:54.144059",
     "exception": false,
     "start_time": "2022-02-07T18:54:54.083608",
     "status": "completed"
    },
    "tags": []
   },
   "source": [
    "  - Classifying the 'rating' feature into three categories. (Kids, Teenagers, Adults) \n",
    "\n",
    "|Rating|Category|\n",
    "|-----|-------|\n",
    "|TV-Y|Kids|\n",
    "|TV-Y7|Kids|\n",
    "|TV-Y7-FV|Kids|\n",
    "|G|Kids|\n",
    "|TV-G|Kids|\n",
    "|PG|Kids|\n",
    "|TV-PG|Kids|\n",
    "|PG-13|Teenagers|\n",
    "|TV-14|Teenagers|\n",
    "|TV-MA|Adults|\n",
    "|R|Adults|\n",
    "|NC-17|Adults|\n",
    "|NR|Adults|\n",
    "|UR|Adults|"
   ]
  },
  {
   "cell_type": "code",
   "execution_count": 32,
   "id": "7c3b3495",
   "metadata": {
    "execution": {
     "iopub.execute_input": "2022-02-07T18:54:54.269396Z",
     "iopub.status.busy": "2022-02-07T18:54:54.268814Z",
     "iopub.status.idle": "2022-02-07T18:54:54.272601Z",
     "shell.execute_reply": "2022-02-07T18:54:54.273023Z",
     "shell.execute_reply.started": "2022-02-07T18:49:10.508189Z"
    },
    "papermill": {
     "duration": 0.068255,
     "end_time": "2022-02-07T18:54:54.273181",
     "exception": false,
     "start_time": "2022-02-07T18:54:54.204926",
     "status": "completed"
    },
    "tags": []
   },
   "outputs": [],
   "source": [
    "netflix_data['ratings_cat'] = netflix_data['rating'] "
   ]
  },
  {
   "cell_type": "code",
   "execution_count": 33,
   "id": "4030e561",
   "metadata": {
    "execution": {
     "iopub.execute_input": "2022-02-07T18:54:54.398963Z",
     "iopub.status.busy": "2022-02-07T18:54:54.398334Z",
     "iopub.status.idle": "2022-02-07T18:54:54.408612Z",
     "shell.execute_reply": "2022-02-07T18:54:54.408048Z",
     "shell.execute_reply.started": "2022-02-07T18:49:10.513673Z"
    },
    "papermill": {
     "duration": 0.073846,
     "end_time": "2022-02-07T18:54:54.408737",
     "exception": false,
     "start_time": "2022-02-07T18:54:54.334891",
     "status": "completed"
    },
    "tags": []
   },
   "outputs": [],
   "source": [
    "custom_rating = {  'TV-Y':'Kids','TV-Y7':'Kids' ,'TV-G':'Kids','PG':'Kids','TV-PG':'Kids','TV-Y7-FV':'Kids','G': 'Kids',\n",
    "                 'PG-13':'Teenagers','TV-14' : 'Teenagers',\n",
    "                 'R'     : 'Adults', 'TV-MA' : 'Adults','NC-17' : 'Adults','NR': 'Adults','UR': 'Adults'} \n",
    "\n",
    "netflix_data['ratings_cat'] = netflix_data['rating'].replace(to_replace = custom_rating)"
   ]
  },
  {
   "cell_type": "code",
   "execution_count": 34,
   "id": "b26af9d0",
   "metadata": {
    "execution": {
     "iopub.execute_input": "2022-02-07T18:54:54.535333Z",
     "iopub.status.busy": "2022-02-07T18:54:54.534785Z",
     "iopub.status.idle": "2022-02-07T18:54:54.546516Z",
     "shell.execute_reply": "2022-02-07T18:54:54.547016Z",
     "shell.execute_reply.started": "2022-02-07T18:49:10.535770Z"
    },
    "papermill": {
     "duration": 0.077472,
     "end_time": "2022-02-07T18:54:54.547168",
     "exception": false,
     "start_time": "2022-02-07T18:54:54.469696",
     "status": "completed"
    },
    "tags": []
   },
   "outputs": [
    {
     "data": {
      "text/html": [
       "<div>\n",
       "<style scoped>\n",
       "    .dataframe tbody tr th:only-of-type {\n",
       "        vertical-align: middle;\n",
       "    }\n",
       "\n",
       "    .dataframe tbody tr th {\n",
       "        vertical-align: top;\n",
       "    }\n",
       "\n",
       "    .dataframe thead th {\n",
       "        text-align: right;\n",
       "    }\n",
       "</style>\n",
       "<table border=\"1\" class=\"dataframe\">\n",
       "  <thead>\n",
       "    <tr style=\"text-align: right;\">\n",
       "      <th></th>\n",
       "      <th>type</th>\n",
       "      <th>title</th>\n",
       "      <th>director</th>\n",
       "      <th>cast</th>\n",
       "      <th>country</th>\n",
       "      <th>date_added</th>\n",
       "      <th>release_year</th>\n",
       "      <th>rating</th>\n",
       "      <th>duration</th>\n",
       "      <th>genres</th>\n",
       "      <th>description</th>\n",
       "      <th>ratings_cat</th>\n",
       "    </tr>\n",
       "  </thead>\n",
       "  <tbody>\n",
       "    <tr>\n",
       "      <th>0</th>\n",
       "      <td>Movie</td>\n",
       "      <td>Dick Johnson Is Dead</td>\n",
       "      <td>Kirsten Johnson</td>\n",
       "      <td>NaN</td>\n",
       "      <td>United States</td>\n",
       "      <td>2021-09-25</td>\n",
       "      <td>2020</td>\n",
       "      <td>PG-13</td>\n",
       "      <td>90 min</td>\n",
       "      <td>Documentaries</td>\n",
       "      <td>As her father nears the end of his life, filmm...</td>\n",
       "      <td>Teenagers</td>\n",
       "    </tr>\n",
       "    <tr>\n",
       "      <th>1</th>\n",
       "      <td>TV Show</td>\n",
       "      <td>Blood &amp; Water</td>\n",
       "      <td>NaN</td>\n",
       "      <td>Ama Qamata, Khosi Ngema, Gail Mabalane, Thaban...</td>\n",
       "      <td>South Africa</td>\n",
       "      <td>2021-09-24</td>\n",
       "      <td>2021</td>\n",
       "      <td>TV-MA</td>\n",
       "      <td>2 Seasons</td>\n",
       "      <td>International TV Shows, TV Dramas, TV Mysteries</td>\n",
       "      <td>After crossing paths at a party, a Cape Town t...</td>\n",
       "      <td>Adults</td>\n",
       "    </tr>\n",
       "    <tr>\n",
       "      <th>2</th>\n",
       "      <td>TV Show</td>\n",
       "      <td>Ganglands</td>\n",
       "      <td>Julien Leclercq</td>\n",
       "      <td>Sami Bouajila, Tracy Gotoas, Samuel Jouy, Nabi...</td>\n",
       "      <td>United States</td>\n",
       "      <td>2021-09-24</td>\n",
       "      <td>2021</td>\n",
       "      <td>TV-MA</td>\n",
       "      <td>1 Season</td>\n",
       "      <td>Crime TV Shows, International TV Shows, TV Act...</td>\n",
       "      <td>To protect his family from a powerful drug lor...</td>\n",
       "      <td>Adults</td>\n",
       "    </tr>\n",
       "    <tr>\n",
       "      <th>3</th>\n",
       "      <td>TV Show</td>\n",
       "      <td>Jailbirds New Orleans</td>\n",
       "      <td>NaN</td>\n",
       "      <td>NaN</td>\n",
       "      <td>United States</td>\n",
       "      <td>2021-09-24</td>\n",
       "      <td>2021</td>\n",
       "      <td>TV-MA</td>\n",
       "      <td>1 Season</td>\n",
       "      <td>Docuseries, Reality TV</td>\n",
       "      <td>Feuds, flirtations and toilet talk go down amo...</td>\n",
       "      <td>Adults</td>\n",
       "    </tr>\n",
       "    <tr>\n",
       "      <th>4</th>\n",
       "      <td>TV Show</td>\n",
       "      <td>Kota Factory</td>\n",
       "      <td>NaN</td>\n",
       "      <td>Mayur More, Jitendra Kumar, Ranjan Raj, Alam K...</td>\n",
       "      <td>India</td>\n",
       "      <td>2021-09-24</td>\n",
       "      <td>2021</td>\n",
       "      <td>TV-MA</td>\n",
       "      <td>2 Seasons</td>\n",
       "      <td>International TV Shows, Romantic TV Shows, TV ...</td>\n",
       "      <td>In a city of coaching centers known to train I...</td>\n",
       "      <td>Adults</td>\n",
       "    </tr>\n",
       "  </tbody>\n",
       "</table>\n",
       "</div>"
      ],
      "text/plain": [
       "      type                  title         director  \\\n",
       "0    Movie   Dick Johnson Is Dead  Kirsten Johnson   \n",
       "1  TV Show          Blood & Water              NaN   \n",
       "2  TV Show              Ganglands  Julien Leclercq   \n",
       "3  TV Show  Jailbirds New Orleans              NaN   \n",
       "4  TV Show           Kota Factory              NaN   \n",
       "\n",
       "                                                cast        country  \\\n",
       "0                                                NaN  United States   \n",
       "1  Ama Qamata, Khosi Ngema, Gail Mabalane, Thaban...   South Africa   \n",
       "2  Sami Bouajila, Tracy Gotoas, Samuel Jouy, Nabi...  United States   \n",
       "3                                                NaN  United States   \n",
       "4  Mayur More, Jitendra Kumar, Ranjan Raj, Alam K...          India   \n",
       "\n",
       "  date_added  release_year rating   duration  \\\n",
       "0 2021-09-25          2020  PG-13     90 min   \n",
       "1 2021-09-24          2021  TV-MA  2 Seasons   \n",
       "2 2021-09-24          2021  TV-MA   1 Season   \n",
       "3 2021-09-24          2021  TV-MA   1 Season   \n",
       "4 2021-09-24          2021  TV-MA  2 Seasons   \n",
       "\n",
       "                                              genres  \\\n",
       "0                                      Documentaries   \n",
       "1    International TV Shows, TV Dramas, TV Mysteries   \n",
       "2  Crime TV Shows, International TV Shows, TV Act...   \n",
       "3                             Docuseries, Reality TV   \n",
       "4  International TV Shows, Romantic TV Shows, TV ...   \n",
       "\n",
       "                                         description ratings_cat  \n",
       "0  As her father nears the end of his life, filmm...   Teenagers  \n",
       "1  After crossing paths at a party, a Cape Town t...      Adults  \n",
       "2  To protect his family from a powerful drug lor...      Adults  \n",
       "3  Feuds, flirtations and toilet talk go down amo...      Adults  \n",
       "4  In a city of coaching centers known to train I...      Adults  "
      ]
     },
     "execution_count": 34,
     "metadata": {},
     "output_type": "execute_result"
    }
   ],
   "source": [
    "netflix_data.head()"
   ]
  },
  {
   "cell_type": "markdown",
   "id": "8c308a22",
   "metadata": {
    "papermill": {
     "duration": 0.061386,
     "end_time": "2022-02-07T18:54:54.670295",
     "exception": false,
     "start_time": "2022-02-07T18:54:54.608909",
     "status": "completed"
    },
    "tags": []
   },
   "source": [
    "### New feature - Season Count for each TV shows"
   ]
  },
  {
   "cell_type": "code",
   "execution_count": 35,
   "id": "5e17eeaa",
   "metadata": {
    "execution": {
     "iopub.execute_input": "2022-02-07T18:54:54.796406Z",
     "iopub.status.busy": "2022-02-07T18:54:54.795852Z",
     "iopub.status.idle": "2022-02-07T18:54:55.040441Z",
     "shell.execute_reply": "2022-02-07T18:54:55.040961Z",
     "shell.execute_reply.started": "2022-02-07T18:49:10.554141Z"
    },
    "papermill": {
     "duration": 0.309249,
     "end_time": "2022-02-07T18:54:55.041132",
     "exception": false,
     "start_time": "2022-02-07T18:54:54.731883",
     "status": "completed"
    },
    "tags": []
   },
   "outputs": [],
   "source": [
    "netflix_data['season_cnt'] = netflix_data.apply(lambda x : x['duration'].split(\" \")[0] if \"Season\" in x['duration'] else \"\", axis = 1)\n",
    "netflix_data['duration'] = netflix_data.apply(lambda x : x['duration'].split(\" \")[0] if \"Season\" not in x['duration'] else \"\", axis = 1)"
   ]
  },
  {
   "cell_type": "markdown",
   "id": "ceaabc3f",
   "metadata": {
    "papermill": {
     "duration": 0.061104,
     "end_time": "2022-02-07T18:54:55.163889",
     "exception": false,
     "start_time": "2022-02-07T18:54:55.102785",
     "status": "completed"
    },
    "tags": []
   },
   "source": [
    "### Analyzing basic statistics about each feature, such as count, min, max, and mean."
   ]
  },
  {
   "cell_type": "code",
   "execution_count": 36,
   "id": "f0510e8f",
   "metadata": {
    "execution": {
     "iopub.execute_input": "2022-02-07T18:54:55.295236Z",
     "iopub.status.busy": "2022-02-07T18:54:55.294616Z",
     "iopub.status.idle": "2022-02-07T18:54:55.325885Z",
     "shell.execute_reply": "2022-02-07T18:54:55.326439Z",
     "shell.execute_reply.started": "2022-02-07T18:49:10.941075Z"
    },
    "papermill": {
     "duration": 0.099767,
     "end_time": "2022-02-07T18:54:55.326624",
     "exception": false,
     "start_time": "2022-02-07T18:54:55.226857",
     "status": "completed"
    },
    "tags": []
   },
   "outputs": [
    {
     "data": {
      "text/html": [
       "<div>\n",
       "<style scoped>\n",
       "    .dataframe tbody tr th:only-of-type {\n",
       "        vertical-align: middle;\n",
       "    }\n",
       "\n",
       "    .dataframe tbody tr th {\n",
       "        vertical-align: top;\n",
       "    }\n",
       "\n",
       "    .dataframe thead th {\n",
       "        text-align: right;\n",
       "    }\n",
       "</style>\n",
       "<table border=\"1\" class=\"dataframe\">\n",
       "  <thead>\n",
       "    <tr style=\"text-align: right;\">\n",
       "      <th></th>\n",
       "      <th>release_year</th>\n",
       "      <th>year_added</th>\n",
       "      <th>month_added</th>\n",
       "      <th>day_added</th>\n",
       "    </tr>\n",
       "  </thead>\n",
       "  <tbody>\n",
       "    <tr>\n",
       "      <th>count</th>\n",
       "      <td>8797.000000</td>\n",
       "      <td>8797.000000</td>\n",
       "      <td>8797.000000</td>\n",
       "      <td>8797.000000</td>\n",
       "    </tr>\n",
       "    <tr>\n",
       "      <th>mean</th>\n",
       "      <td>2014.183472</td>\n",
       "      <td>2018.871888</td>\n",
       "      <td>6.654996</td>\n",
       "      <td>12.497329</td>\n",
       "    </tr>\n",
       "    <tr>\n",
       "      <th>std</th>\n",
       "      <td>8.822191</td>\n",
       "      <td>1.574243</td>\n",
       "      <td>3.436554</td>\n",
       "      <td>9.887551</td>\n",
       "    </tr>\n",
       "    <tr>\n",
       "      <th>min</th>\n",
       "      <td>1925.000000</td>\n",
       "      <td>2008.000000</td>\n",
       "      <td>1.000000</td>\n",
       "      <td>1.000000</td>\n",
       "    </tr>\n",
       "    <tr>\n",
       "      <th>25%</th>\n",
       "      <td>2013.000000</td>\n",
       "      <td>2018.000000</td>\n",
       "      <td>4.000000</td>\n",
       "      <td>1.000000</td>\n",
       "    </tr>\n",
       "    <tr>\n",
       "      <th>50%</th>\n",
       "      <td>2017.000000</td>\n",
       "      <td>2019.000000</td>\n",
       "      <td>7.000000</td>\n",
       "      <td>13.000000</td>\n",
       "    </tr>\n",
       "    <tr>\n",
       "      <th>75%</th>\n",
       "      <td>2019.000000</td>\n",
       "      <td>2020.000000</td>\n",
       "      <td>10.000000</td>\n",
       "      <td>20.000000</td>\n",
       "    </tr>\n",
       "    <tr>\n",
       "      <th>max</th>\n",
       "      <td>2021.000000</td>\n",
       "      <td>2021.000000</td>\n",
       "      <td>12.000000</td>\n",
       "      <td>31.000000</td>\n",
       "    </tr>\n",
       "  </tbody>\n",
       "</table>\n",
       "</div>"
      ],
      "text/plain": [
       "       release_year   year_added  month_added    day_added\n",
       "count   8797.000000  8797.000000  8797.000000  8797.000000\n",
       "mean    2014.183472  2018.871888     6.654996    12.497329\n",
       "std        8.822191     1.574243     3.436554     9.887551\n",
       "min     1925.000000  2008.000000     1.000000     1.000000\n",
       "25%     2013.000000  2018.000000     4.000000     1.000000\n",
       "50%     2017.000000  2019.000000     7.000000    13.000000\n",
       "75%     2019.000000  2020.000000    10.000000    20.000000\n",
       "max     2021.000000  2021.000000    12.000000    31.000000"
      ]
     },
     "execution_count": 36,
     "metadata": {},
     "output_type": "execute_result"
    }
   ],
   "source": [
    "netflix_date.describe()"
   ]
  },
  {
   "cell_type": "markdown",
   "id": "4a684ad8",
   "metadata": {
    "papermill": {
     "duration": 0.061279,
     "end_time": "2022-02-07T18:54:55.449829",
     "exception": false,
     "start_time": "2022-02-07T18:54:55.388550",
     "status": "completed"
    },
    "tags": []
   },
   "source": [
    "### Inference\n",
    "  - Netflix has **25%** of movies and TV shows that were released within the **last two years**\n",
    "  - About **75%** of Netflix's content consists of movies and TV shows **released after 2013**\n",
    "  - Data from Netflix shows that **new trend movies or TV shows are more prevalent**.\n",
    "  - For more subscribers, Netflix should invest in **classic Movies and TV shows.**"
   ]
  },
  {
   "cell_type": "markdown",
   "id": "9b6cd3e8",
   "metadata": {
    "papermill": {
     "duration": 0.061059,
     "end_time": "2022-02-07T18:54:55.572361",
     "exception": false,
     "start_time": "2022-02-07T18:54:55.511302",
     "status": "completed"
    },
    "tags": []
   },
   "source": [
    "## Univariante Analysis\n",
    "#### Feature Name\n",
    "  - **Type** - Movies & TV shows - Distribution\n",
    "  - **date_added** - Checking number of new Contents added yearly, monthly, which date and Weekend-Weekday\n",
    "  - **release_year** - Movies and TV shows release_year trend.\n",
    "  - **ratings & ratings_cat** - Identify how content is distributed based on maturity level - kids, teens, and adults\n",
    "  - **genres** - Netflix's most popular genre\n",
    "  - **cast** - Top 20 cast contributed to Netflix content"
   ]
  },
  {
   "cell_type": "markdown",
   "id": "c4f65c1f",
   "metadata": {
    "papermill": {
     "duration": 0.060882,
     "end_time": "2022-02-07T18:54:55.694702",
     "exception": false,
     "start_time": "2022-02-07T18:54:55.633820",
     "status": "completed"
    },
    "tags": []
   },
   "source": [
    "### Movies & TV shows - Distribution"
   ]
  },
  {
   "cell_type": "code",
   "execution_count": 37,
   "id": "57cd287f",
   "metadata": {
    "execution": {
     "iopub.execute_input": "2022-02-07T18:54:55.823973Z",
     "iopub.status.busy": "2022-02-07T18:54:55.823397Z",
     "iopub.status.idle": "2022-02-07T18:54:55.947044Z",
     "shell.execute_reply": "2022-02-07T18:54:55.946215Z",
     "shell.execute_reply.started": "2022-02-07T18:49:10.999802Z"
    },
    "papermill": {
     "duration": 0.191451,
     "end_time": "2022-02-07T18:54:55.947298",
     "exception": false,
     "start_time": "2022-02-07T18:54:55.755847",
     "status": "completed"
    },
    "tags": []
   },
   "outputs": [
    {
     "data": {
      "image/png": "[encoded data removed]",
      "text/plain": [
       "<Figure size 432x288 with 1 Axes>"
      ]
     },
     "metadata": {},
     "output_type": "display_data"
    }
   ],
   "source": [
    "data = netflix_data.groupby(\"type\")['type'].count()\n",
    "\n",
    "explode=(0.08,0)\n",
    "labels = ['Movie', 'TV Show']\n",
    "colors = sns.color_palette(\"Reds\")\n",
    "plt.pie(data, labels=labels,colors = colors, autopct = '%0.0f%%', explode = explode)\n",
    "plt.show()"
   ]
  },
  {
   "cell_type": "markdown",
   "id": "bf570b78",
   "metadata": {
    "papermill": {
     "duration": 0.062293,
     "end_time": "2022-02-07T18:54:56.108089",
     "exception": false,
     "start_time": "2022-02-07T18:54:56.045796",
     "status": "completed"
    },
    "tags": []
   },
   "source": [
    "### Inference\n",
    "  - Netflix has **70%** of its content as movies\n",
    "  - **Movies** are clearly more **popular on Netflix than TV shows**."
   ]
  },
  {
   "cell_type": "markdown",
   "id": "5ff3e30f",
   "metadata": {
    "papermill": {
     "duration": 0.062482,
     "end_time": "2022-02-07T18:54:56.233084",
     "exception": false,
     "start_time": "2022-02-07T18:54:56.170602",
     "status": "completed"
    },
    "tags": []
   },
   "source": [
    "### Checking number of new Contents added yearly"
   ]
  },
  {
   "cell_type": "code",
   "execution_count": 38,
   "id": "b6b27fd3",
   "metadata": {
    "execution": {
     "iopub.execute_input": "2022-02-07T18:54:56.360328Z",
     "iopub.status.busy": "2022-02-07T18:54:56.359773Z",
     "iopub.status.idle": "2022-02-07T18:54:56.672885Z",
     "shell.execute_reply": "2022-02-07T18:54:56.673435Z",
     "shell.execute_reply.started": "2022-02-07T18:49:11.160199Z"
    },
    "papermill": {
     "duration": 0.378161,
     "end_time": "2022-02-07T18:54:56.673625",
     "exception": false,
     "start_time": "2022-02-07T18:54:56.295464",
     "status": "completed"
    },
    "tags": []
   },
   "outputs": [
    {
     "data": {
      "text/plain": [
       "Text(0.5, 0, 'Year -> (Movies added to Netflix) ')"
      ]
     },
     "execution_count": 38,
     "metadata": {},
     "output_type": "execute_result"
    },
    {
     "data": {
      "image/png": "[encoded data removed]",
      "text/plain": [
       "<Figure size 1080x360 with 1 Axes>"
      ]
     },
     "metadata": {},
     "output_type": "display_data"
    }
   ],
   "source": [
    "fig = plt.figure(figsize=(15,5))\n",
    "sns.set(style='whitegrid')\n",
    "fig.set_facecolor(\"lightgrey\")\n",
    "count = (netflix_date['year_added'].value_counts(normalize=True)*100)\n",
    "count.plot.bar(color=sns.color_palette('Reds'))\n",
    "plt.title('Count Plot (%) - Movies added to Netflix by year ', fontsize=14)\n",
    "plt.ylabel('\"Frequency -> (Movies Added in %)', fontsize=12)\n",
    "plt.xlabel('Year -> (Movies added to Netflix) ', fontsize=12)"
   ]
  },
  {
   "cell_type": "code",
   "execution_count": 39,
   "id": "ac95dc20",
   "metadata": {
    "execution": {
     "iopub.execute_input": "2022-02-07T18:54:56.810129Z",
     "iopub.status.busy": "2022-02-07T18:54:56.809541Z",
     "iopub.status.idle": "2022-02-07T18:54:57.122582Z",
     "shell.execute_reply": "2022-02-07T18:54:57.121985Z",
     "shell.execute_reply.started": "2022-02-07T18:49:11.486831Z"
    },
    "papermill": {
     "duration": 0.385833,
     "end_time": "2022-02-07T18:54:57.122718",
     "exception": false,
     "start_time": "2022-02-07T18:54:56.736885",
     "status": "completed"
    },
    "tags": []
   },
   "outputs": [
    {
     "data": {
      "text/plain": [
       "Text(0.5, 0, 'Year -> (Movies added to Netflix) ')"
      ]
     },
     "execution_count": 39,
     "metadata": {},
     "output_type": "execute_result"
    },
    {
     "data": {
      "image/png": "[encoded data removed]",
      "text/plain": [
       "<Figure size 1080x360 with 1 Axes>"
      ]
     },
     "metadata": {},
     "output_type": "display_data"
    }
   ],
   "source": [
    "fig = plt.figure(figsize=(15,5))\n",
    "sns.set(style='whitegrid')\n",
    "fig.set_facecolor(\"lightgrey\")\n",
    "sns.countplot(data=netflix_date,x = 'year_added',palette =\"Reds\")\n",
    "plt.title('Count Plot - Movies added to Netflix by year ', fontsize=14)\n",
    "plt.ylabel('\"No. of movies added to Netflix', fontsize=12)\n",
    "plt.xlabel('Year -> (Movies added to Netflix) ', fontsize=12)"
   ]
  },
  {
   "cell_type": "markdown",
   "id": "bb0363d9",
   "metadata": {
    "papermill": {
     "duration": 0.064869,
     "end_time": "2022-02-07T18:54:57.254385",
     "exception": false,
     "start_time": "2022-02-07T18:54:57.189516",
     "status": "completed"
    },
    "tags": []
   },
   "source": [
    "### Inference\n",
    "  - According to the above graph, **Netflix has started adding content since 2014.**\n",
    "  - The popularity of OTT has boomed in the last 5 years, so we're seeing a dramatic increase in content being added.\n",
    "  - There were **2000 (23%) Movies and TV shows** added in the year 2019 (Highest until date).\n"
   ]
  },
  {
   "cell_type": "markdown",
   "id": "e303c8e1",
   "metadata": {
    "papermill": {
     "duration": 0.064559,
     "end_time": "2022-02-07T18:54:57.384666",
     "exception": false,
     "start_time": "2022-02-07T18:54:57.320107",
     "status": "completed"
    },
    "tags": []
   },
   "source": [
    "### Checking number of new Contents added montly"
   ]
  },
  {
   "cell_type": "code",
   "execution_count": 40,
   "id": "c9980502",
   "metadata": {
    "execution": {
     "iopub.execute_input": "2022-02-07T18:54:57.521924Z",
     "iopub.status.busy": "2022-02-07T18:54:57.521004Z",
     "iopub.status.idle": "2022-02-07T18:54:57.846485Z",
     "shell.execute_reply": "2022-02-07T18:54:57.847093Z",
     "shell.execute_reply.started": "2022-02-07T18:49:11.803559Z"
    },
    "papermill": {
     "duration": 0.398116,
     "end_time": "2022-02-07T18:54:57.847346",
     "exception": false,
     "start_time": "2022-02-07T18:54:57.449230",
     "status": "completed"
    },
    "tags": []
   },
   "outputs": [
    {
     "data": {
      "text/plain": [
       "Text(0.5, 0, 'Month -> (Movies added to Netflix) ')"
      ]
     },
     "execution_count": 40,
     "metadata": {},
     "output_type": "execute_result"
    },
    {
     "data": {
      "image/png": "[encoded data removed]",
      "text/plain": [
       "<Figure size 1080x360 with 1 Axes>"
      ]
     },
     "metadata": {},
     "output_type": "display_data"
    }
   ],
   "source": [
    "fig = plt.figure(figsize=(15,5))\n",
    "sns.set(style='whitegrid')\n",
    "fig.set_facecolor(\"lightgrey\")\n",
    "sns.countplot(data=netflix_date,x = 'month_added',palette =\"Reds\")\n",
    "plt.title('Count Plot - Movies added to Netflix by month ', fontsize=14)\n",
    "plt.ylabel('\"No. of movies added to Netflix', fontsize=12)\n",
    "plt.xlabel('Month -> (Movies added to Netflix) ', fontsize=12)"
   ]
  },
  {
   "cell_type": "markdown",
   "id": "7999a95f",
   "metadata": {
    "papermill": {
     "duration": 0.065469,
     "end_time": "2022-02-07T18:54:57.995762",
     "exception": false,
     "start_time": "2022-02-07T18:54:57.930293",
     "status": "completed"
    },
    "tags": []
   },
   "source": [
    "### Inference\n",
    "  - Each month, we see consistent content additions"
   ]
  },
  {
   "cell_type": "markdown",
   "id": "c388437b",
   "metadata": {
    "papermill": {
     "duration": 0.065753,
     "end_time": "2022-02-07T18:54:58.127553",
     "exception": false,
     "start_time": "2022-02-07T18:54:58.061800",
     "status": "completed"
    },
    "tags": []
   },
   "source": [
    "### Checking number of new Contents on Weekends"
   ]
  },
  {
   "cell_type": "code",
   "execution_count": 41,
   "id": "109abbc7",
   "metadata": {
    "execution": {
     "iopub.execute_input": "2022-02-07T18:54:58.262480Z",
     "iopub.status.busy": "2022-02-07T18:54:58.261839Z",
     "iopub.status.idle": "2022-02-07T18:54:58.487875Z",
     "shell.execute_reply": "2022-02-07T18:54:58.488288Z",
     "shell.execute_reply.started": "2022-02-07T18:49:12.097540Z"
    },
    "papermill": {
     "duration": 0.295073,
     "end_time": "2022-02-07T18:54:58.488460",
     "exception": false,
     "start_time": "2022-02-07T18:54:58.193387",
     "status": "completed"
    },
    "tags": []
   },
   "outputs": [
    {
     "data": {
      "text/plain": [
       "Text(0.5, 0, 'Year on which Movies added on Netflix')"
      ]
     },
     "execution_count": 41,
     "metadata": {},
     "output_type": "execute_result"
    },
    {
     "data": {
      "image/png": "[encoded data removed]",
      "text/plain": [
       "<Figure size 1080x360 with 1 Axes>"
      ]
     },
     "metadata": {},
     "output_type": "display_data"
    }
   ],
   "source": [
    "fig = plt.figure(figsize=(15,5))\n",
    "sns.set(style='whitegrid')\n",
    "fig.set_facecolor(\"lightgrey\")\n",
    "count = (netflix_date['Weekday_added'].value_counts(normalize=True)*100)\n",
    "count.plot.bar(color=sns.color_palette('Reds'))\n",
    "plt.title('Frequency Plot (%) - Movies added to Netflix by day (Mon-Sun) ', fontsize=14)\n",
    "plt.ylabel('\"Frequency of Movies added in %', fontsize=12)\n",
    "plt.xlabel('Year on which Movies added on Netflix', fontsize=12)"
   ]
  },
  {
   "cell_type": "code",
   "execution_count": 42,
   "id": "05c52657",
   "metadata": {
    "execution": {
     "iopub.execute_input": "2022-02-07T18:54:58.627056Z",
     "iopub.status.busy": "2022-02-07T18:54:58.626459Z",
     "iopub.status.idle": "2022-02-07T18:54:58.816486Z",
     "shell.execute_reply": "2022-02-07T18:54:58.815668Z",
     "shell.execute_reply.started": "2022-02-07T18:49:12.344465Z"
    },
    "papermill": {
     "duration": 0.259785,
     "end_time": "2022-02-07T18:54:58.816640",
     "exception": false,
     "start_time": "2022-02-07T18:54:58.556855",
     "status": "completed"
    },
    "tags": []
   },
   "outputs": [
    {
     "data": {
      "text/plain": [
       "Text(0.5, 1.0, 'Count Plot - Movies added to Netflix by day (Mon-Sun) ')"
      ]
     },
     "execution_count": 42,
     "metadata": {},
     "output_type": "execute_result"
    },
    {
     "data": {
      "image/png": "[encoded data removed]",
      "text/plain": [
       "<Figure size 1080x360 with 1 Axes>"
      ]
     },
     "metadata": {},
     "output_type": "display_data"
    }
   ],
   "source": [
    "fig = plt.figure(figsize=(15,5))\n",
    "sns.set(style='whitegrid')\n",
    "fig.set_facecolor(\"lightgrey\")\n",
    "sns.countplot(data=netflix_date,x = 'Weekday_added',palette =\"Reds\")\n",
    "plt.title('Count Plot - Movies added to Netflix by day (Mon-Sun) ', fontsize=14)"
   ]
  },
  {
   "cell_type": "markdown",
   "id": "304712d1",
   "metadata": {
    "papermill": {
     "duration": 0.070078,
     "end_time": "2022-02-07T18:54:58.955898",
     "exception": false,
     "start_time": "2022-02-07T18:54:58.885820",
     "status": "completed"
    },
    "tags": []
   },
   "source": [
    "### Inference\n",
    "  - Netflix adds **45%** of its content on Thursdays and Fridays.\n",
    "  - **On Friday, new content should be added.**\n",
    "  - Over the weekend, less than 20% of content is added."
   ]
  },
  {
   "cell_type": "markdown",
   "id": "c36b7c3f",
   "metadata": {
    "papermill": {
     "duration": 0.06812,
     "end_time": "2022-02-07T18:54:59.092055",
     "exception": false,
     "start_time": "2022-02-07T18:54:59.023935",
     "status": "completed"
    },
    "tags": []
   },
   "source": [
    "### Checking when should new content be added to the site"
   ]
  },
  {
   "cell_type": "code",
   "execution_count": 43,
   "id": "005cf4d1",
   "metadata": {
    "execution": {
     "iopub.execute_input": "2022-02-07T18:54:59.251406Z",
     "iopub.status.busy": "2022-02-07T18:54:59.233143Z",
     "iopub.status.idle": "2022-02-07T18:54:59.657408Z",
     "shell.execute_reply": "2022-02-07T18:54:59.657853Z",
     "shell.execute_reply.started": "2022-02-07T18:49:12.569775Z"
    },
    "papermill": {
     "duration": 0.496065,
     "end_time": "2022-02-07T18:54:59.658013",
     "exception": false,
     "start_time": "2022-02-07T18:54:59.161948",
     "status": "completed"
    },
    "tags": []
   },
   "outputs": [
    {
     "data": {
      "text/plain": [
       "Text(0.5, 0, 'Date on which Movies added on Netflix')"
      ]
     },
     "execution_count": 43,
     "metadata": {},
     "output_type": "execute_result"
    },
    {
     "data": {
      "image/png": "[encoded data removed]",
      "text/plain": [
       "<Figure size 1080x360 with 1 Axes>"
      ]
     },
     "metadata": {},
     "output_type": "display_data"
    }
   ],
   "source": [
    "fig = plt.figure(figsize=(15,5))\n",
    "sns.set(style='whitegrid')\n",
    "fig.set_facecolor(\"lightgrey\")\n",
    "count = (netflix_date['day_added'].value_counts(normalize=True)*100)\n",
    "count.plot.bar(color=sns.color_palette('Reds'))\n",
    "plt.title('Frequency plot (%) - Movies added to Netflix by date of the month ', fontsize=14)\n",
    "plt.ylabel('\"Frequency of Movies added in %', fontsize=12)\n",
    "plt.xlabel('Date on which Movies added on Netflix', fontsize=12)"
   ]
  },
  {
   "cell_type": "markdown",
   "id": "6cb518da",
   "metadata": {
    "papermill": {
     "duration": 0.068443,
     "end_time": "2022-02-07T18:54:59.795193",
     "exception": false,
     "start_time": "2022-02-07T18:54:59.726750",
     "status": "completed"
    },
    "tags": []
   },
   "source": [
    "### Inference \n",
    "  - It was evident that 1st of every month was when the most content was added."
   ]
  },
  {
   "cell_type": "markdown",
   "id": "4b64126e",
   "metadata": {
    "papermill": {
     "duration": 0.068515,
     "end_time": "2022-02-07T18:54:59.933512",
     "exception": false,
     "start_time": "2022-02-07T18:54:59.864997",
     "status": "completed"
    },
    "tags": []
   },
   "source": [
    "### Distribution of Release year"
   ]
  },
  {
   "cell_type": "code",
   "execution_count": 44,
   "id": "a9540b53",
   "metadata": {
    "execution": {
     "iopub.execute_input": "2022-02-07T18:55:00.077144Z",
     "iopub.status.busy": "2022-02-07T18:55:00.076578Z",
     "iopub.status.idle": "2022-02-07T18:55:00.093079Z",
     "shell.execute_reply": "2022-02-07T18:55:00.093600Z",
     "shell.execute_reply.started": "2022-02-07T18:49:13.100536Z"
    },
    "papermill": {
     "duration": 0.091551,
     "end_time": "2022-02-07T18:55:00.093784",
     "exception": false,
     "start_time": "2022-02-07T18:55:00.002233",
     "status": "completed"
    },
    "tags": []
   },
   "outputs": [],
   "source": [
    "bins = [1941,2000,2011,2014,2016,2018,2020,2021]\n",
    "netflix_date_v1 = netflix_date.groupby(pd.cut(netflix_date['release_year'], bins=bins)).release_year.count()\n",
    "bins = [1941,2000,2011,2013,2021]\n",
    "netflix_date_v2 = netflix_date.groupby(pd.cut(netflix_date['release_year'], bins=bins)).release_year.count()"
   ]
  },
  {
   "cell_type": "code",
   "execution_count": 45,
   "id": "b4ed196f",
   "metadata": {
    "execution": {
     "iopub.execute_input": "2022-02-07T18:55:00.236027Z",
     "iopub.status.busy": "2022-02-07T18:55:00.235347Z",
     "iopub.status.idle": "2022-02-07T18:55:00.240612Z",
     "shell.execute_reply": "2022-02-07T18:55:00.241126Z",
     "shell.execute_reply.started": "2022-02-07T18:49:13.126578Z"
    },
    "papermill": {
     "duration": 0.078443,
     "end_time": "2022-02-07T18:55:00.241318",
     "exception": false,
     "start_time": "2022-02-07T18:55:00.162875",
     "status": "completed"
    },
    "tags": []
   },
   "outputs": [],
   "source": [
    "netflix_date_bin = netflix_date_v1.to_frame()\n",
    "netflix_date_bin.rename(columns = {\"release_year\":\"count\"},inplace= True)\n",
    "netflix_date_bin1 = netflix_date_v2.to_frame()\n",
    "netflix_date_bin1.rename(columns = {\"release_year\":\"count\"},inplace= True)"
   ]
  },
  {
   "cell_type": "code",
   "execution_count": 46,
   "id": "00ac496f",
   "metadata": {
    "execution": {
     "iopub.execute_input": "2022-02-07T18:55:00.386372Z",
     "iopub.status.busy": "2022-02-07T18:55:00.385824Z",
     "iopub.status.idle": "2022-02-07T18:55:00.590654Z",
     "shell.execute_reply": "2022-02-07T18:55:00.590096Z",
     "shell.execute_reply.started": "2022-02-07T18:49:13.134557Z"
    },
    "papermill": {
     "duration": 0.278274,
     "end_time": "2022-02-07T18:55:00.590808",
     "exception": false,
     "start_time": "2022-02-07T18:55:00.312534",
     "status": "completed"
    },
    "tags": []
   },
   "outputs": [
    {
     "data": {
      "text/plain": [
       "<AxesSubplot:title={'center':'Bar plot - based on release_year of Movies & TV shows'}, xlabel='release_year', ylabel='count'>"
      ]
     },
     "execution_count": 46,
     "metadata": {},
     "output_type": "execute_result"
    },
    {
     "data": {
      "image/png": "[encoded data removed]",
      "text/plain": [
       "<Figure size 864x360 with 1 Axes>"
      ]
     },
     "metadata": {},
     "output_type": "display_data"
    }
   ],
   "source": [
    "fig = plt.figure(figsize=(12,5))\n",
    "sns.set(style = \"darkgrid\")\n",
    "fig.set_facecolor(\"lightgrey\")\n",
    "plt.title('Bar plot - based on release_year of Movies & TV shows', fontsize=12)\n",
    "plt.ylabel('\"Count of Movies & TV shows release by year', fontsize=12)\n",
    "plt.xlabel('Bin of release year ', fontsize=12)\n",
    "plt.xticks(rotation = 80,fontsize=12)\n",
    "sns.barplot(x=netflix_date_bin.index,y='count',data=netflix_date_bin,palette=\"Reds\")"
   ]
  },
  {
   "cell_type": "code",
   "execution_count": 47,
   "id": "3b9df0a8",
   "metadata": {
    "execution": {
     "iopub.execute_input": "2022-02-07T18:55:00.735750Z",
     "iopub.status.busy": "2022-02-07T18:55:00.735158Z",
     "iopub.status.idle": "2022-02-07T18:55:01.027954Z",
     "shell.execute_reply": "2022-02-07T18:55:01.028430Z",
     "shell.execute_reply.started": "2022-02-07T18:49:13.423550Z"
    },
    "papermill": {
     "duration": 0.366137,
     "end_time": "2022-02-07T18:55:01.028599",
     "exception": false,
     "start_time": "2022-02-07T18:55:00.662462",
     "status": "completed"
    },
    "tags": []
   },
   "outputs": [
    {
     "data": {
      "text/plain": [
       "<AxesSubplot:title={'center':'Bar plot - based on release_year of Movies & TV shows'}, xlabel='release_year', ylabel='count'>"
      ]
     },
     "execution_count": 47,
     "metadata": {},
     "output_type": "execute_result"
    },
    {
     "data": {
      "image/png": "[encoded data removed]",
      "text/plain": [
       "<Figure size 864x360 with 1 Axes>"
      ]
     },
     "metadata": {},
     "output_type": "display_data"
    }
   ],
   "source": [
    "fig = plt.figure(figsize=(12,5))\n",
    "sns.set(style = \"darkgrid\")\n",
    "fig.set_facecolor(\"lightgrey\")\n",
    "plt.title('Bar plot - based on release_year of Movies & TV shows', fontsize=12)\n",
    "plt.ylabel('\"Count of Movies & TV shows release by year', fontsize=12)\n",
    "plt.xlabel('Bin of release year ', fontsize=12)\n",
    "plt.xticks(rotation = 80,fontsize=12)\n",
    "sns.barplot(x=netflix_date_bin1.index,y='count',data=netflix_date_bin1,palette=\"Reds\")"
   ]
  },
  {
   "cell_type": "markdown",
   "id": "75c63261",
   "metadata": {
    "papermill": {
     "duration": 0.071909,
     "end_time": "2022-02-07T18:55:01.171709",
     "exception": false,
     "start_time": "2022-02-07T18:55:01.099800",
     "status": "completed"
    },
    "tags": []
   },
   "source": [
    "### Inference\n",
    "  - Netflix began adding content in 2014 as indicated by the \"added_year\" analysis mentioned above.\n",
    "  - Added content has a release date ranging from 2014 till now for 75% of movies and TV shows. This shows Netflix encourages content creators to add new content in the platform.\n",
    "  - **New content creators have a lot of opportunities to share their content on Netflix.**"
   ]
  },
  {
   "cell_type": "markdown",
   "id": "f99ea46b",
   "metadata": {
    "papermill": {
     "duration": 0.070572,
     "end_time": "2022-02-07T18:55:01.313435",
     "exception": false,
     "start_time": "2022-02-07T18:55:01.242863",
     "status": "completed"
    },
    "tags": []
   },
   "source": [
    "### Identify how content is distributed based on maturity level - kids, teens, and adults"
   ]
  },
  {
   "cell_type": "code",
   "execution_count": 48,
   "id": "ba4884a6",
   "metadata": {
    "execution": {
     "iopub.execute_input": "2022-02-07T18:55:01.459911Z",
     "iopub.status.busy": "2022-02-07T18:55:01.459000Z",
     "iopub.status.idle": "2022-02-07T18:55:01.627679Z",
     "shell.execute_reply": "2022-02-07T18:55:01.627109Z",
     "shell.execute_reply.started": "2022-02-07T18:49:13.799269Z"
    },
    "papermill": {
     "duration": 0.242472,
     "end_time": "2022-02-07T18:55:01.627822",
     "exception": false,
     "start_time": "2022-02-07T18:55:01.385350",
     "status": "completed"
    },
    "tags": []
   },
   "outputs": [
    {
     "data": {
      "text/plain": [
       "(array([0, 1, 2]),\n",
       " [Text(0, 0, 'Adults'), Text(1, 0, 'Teenagers'), Text(2, 0, 'Kids')])"
      ]
     },
     "execution_count": 48,
     "metadata": {},
     "output_type": "execute_result"
    },
    {
     "data": {
      "image/png": "[encoded data removed]",
      "text/plain": [
       "<Figure size 864x360 with 1 Axes>"
      ]
     },
     "metadata": {},
     "output_type": "display_data"
    }
   ],
   "source": [
    "fig = plt.figure(figsize=(12,5))\n",
    "sns.set(style = \"darkgrid\")\n",
    "fig.set_facecolor(\"lightgrey\")\n",
    "count = netflix_data['ratings_cat'].value_counts(normalize=True)*100\n",
    "count.plot.bar(color=sns.color_palette('Reds'))\n",
    "plt.title('Bar plot - Rating based on the Category (Kids,Teenagers & Adults)', fontsize=12)\n",
    "plt.ylabel('\"Frequency of rating category (Adult,Kids,Teenagers) added in %', fontsize=12)\n",
    "plt.xlabel('Category - Kids,Teenager & Adults', fontsize=12)\n",
    "plt.xticks(rotation = 30,fontsize=12)"
   ]
  },
  {
   "cell_type": "code",
   "execution_count": 49,
   "id": "97521ca2",
   "metadata": {
    "execution": {
     "iopub.execute_input": "2022-02-07T18:55:01.777346Z",
     "iopub.status.busy": "2022-02-07T18:55:01.776419Z",
     "iopub.status.idle": "2022-02-07T18:55:02.040996Z",
     "shell.execute_reply": "2022-02-07T18:55:02.041477Z",
     "shell.execute_reply.started": "2022-02-07T18:49:14.042578Z"
    },
    "papermill": {
     "duration": 0.341253,
     "end_time": "2022-02-07T18:55:02.041649",
     "exception": false,
     "start_time": "2022-02-07T18:55:01.700396",
     "status": "completed"
    },
    "tags": []
   },
   "outputs": [
    {
     "data": {
      "text/plain": [
       "Text(0.5, 0, 'Category ')"
      ]
     },
     "execution_count": 49,
     "metadata": {},
     "output_type": "execute_result"
    },
    {
     "data": {
      "image/png": "[encoded data removed]",
      "text/plain": [
       "<Figure size 1080x360 with 1 Axes>"
      ]
     },
     "metadata": {},
     "output_type": "display_data"
    }
   ],
   "source": [
    "fig = plt.figure(figsize=(15,5))\n",
    "sns.set(style = \"darkgrid\")\n",
    "fig.set_facecolor(\"lightgrey\")\n",
    "count = netflix_data['rating'].value_counts(normalize=True)*100\n",
    "count.plot.bar(color=sns.color_palette('Reds'))\n",
    "plt.title('Bar plot - Rating based on the Category ', fontsize=12)\n",
    "plt.ylabel('\"Frequency of age rating category added in %', fontsize=12)\n",
    "plt.xlabel('Category ', fontsize=12)"
   ]
  },
  {
   "cell_type": "markdown",
   "id": "505014c0",
   "metadata": {
    "papermill": {
     "duration": 0.073526,
     "end_time": "2022-02-07T18:55:02.188781",
     "exception": false,
     "start_time": "2022-02-07T18:55:02.115255",
     "status": "completed"
    },
    "tags": []
   },
   "source": [
    "### Inference\n",
    "  - On Netflix, **48%** of the content (both Movies and TV shows) is for adults.\n",
    "  - According to the graph above, more than **60%** of \"TV & Shows\" content is not suitable for kids.\n",
    "  - More **kid-friendly** content could increase subscriber numbers."
   ]
  },
  {
   "cell_type": "markdown",
   "id": "e4afd60b",
   "metadata": {
    "papermill": {
     "duration": 0.073864,
     "end_time": "2022-02-07T18:55:02.336481",
     "exception": false,
     "start_time": "2022-02-07T18:55:02.262617",
     "status": "completed"
    },
    "tags": []
   },
   "source": [
    "### Genres"
   ]
  },
  {
   "cell_type": "code",
   "execution_count": 50,
   "id": "fc9dbb4b",
   "metadata": {
    "execution": {
     "iopub.execute_input": "2022-02-07T18:55:02.488773Z",
     "iopub.status.busy": "2022-02-07T18:55:02.487802Z",
     "iopub.status.idle": "2022-02-07T18:55:02.508665Z",
     "shell.execute_reply": "2022-02-07T18:55:02.509182Z",
     "shell.execute_reply.started": "2022-02-07T18:49:14.405928Z"
    },
    "papermill": {
     "duration": 0.097972,
     "end_time": "2022-02-07T18:55:02.509360",
     "exception": false,
     "start_time": "2022-02-07T18:55:02.411388",
     "status": "completed"
    },
    "tags": []
   },
   "outputs": [
    {
     "data": {
      "text/html": [
       "<div>\n",
       "<style scoped>\n",
       "    .dataframe tbody tr th:only-of-type {\n",
       "        vertical-align: middle;\n",
       "    }\n",
       "\n",
       "    .dataframe tbody tr th {\n",
       "        vertical-align: top;\n",
       "    }\n",
       "\n",
       "    .dataframe thead th {\n",
       "        text-align: right;\n",
       "    }\n",
       "</style>\n",
       "<table border=\"1\" class=\"dataframe\">\n",
       "  <thead>\n",
       "    <tr style=\"text-align: right;\">\n",
       "      <th></th>\n",
       "      <th>Genres</th>\n",
       "      <th>Genres Count</th>\n",
       "    </tr>\n",
       "  </thead>\n",
       "  <tbody>\n",
       "    <tr>\n",
       "      <th>0</th>\n",
       "      <td>International Movies</td>\n",
       "      <td>2752</td>\n",
       "    </tr>\n",
       "    <tr>\n",
       "      <th>1</th>\n",
       "      <td>Dramas</td>\n",
       "      <td>2427</td>\n",
       "    </tr>\n",
       "    <tr>\n",
       "      <th>2</th>\n",
       "      <td>Comedies</td>\n",
       "      <td>1674</td>\n",
       "    </tr>\n",
       "    <tr>\n",
       "      <th>3</th>\n",
       "      <td>International TV Shows</td>\n",
       "      <td>1351</td>\n",
       "    </tr>\n",
       "    <tr>\n",
       "      <th>4</th>\n",
       "      <td>Documentaries</td>\n",
       "      <td>869</td>\n",
       "    </tr>\n",
       "  </tbody>\n",
       "</table>\n",
       "</div>"
      ],
      "text/plain": [
       "                   Genres  Genres Count\n",
       "0    International Movies          2752\n",
       "1                  Dramas          2427\n",
       "2                Comedies          1674\n",
       "3  International TV Shows          1351\n",
       "4           Documentaries           869"
      ]
     },
     "execution_count": 50,
     "metadata": {},
     "output_type": "execute_result"
    }
   ],
   "source": [
    "genres = \", \".join(netflix_data['genres']).split(\", \")\n",
    "genres\n",
    "\n",
    "genre_cnt = Counter()\n",
    "for genre in genres:\n",
    "    genre_cnt[genre] += 1\n",
    "\n",
    "top_20_genre = genre_cnt.most_common(20)\n",
    "netflix_genres = pd.DataFrame (top_20_genre, columns = ['Genres','Genres Count'])\n",
    "netflix_genres.head()"
   ]
  },
  {
   "cell_type": "code",
   "execution_count": 51,
   "id": "3b4edfb7",
   "metadata": {
    "execution": {
     "iopub.execute_input": "2022-02-07T18:55:02.661158Z",
     "iopub.status.busy": "2022-02-07T18:55:02.660625Z",
     "iopub.status.idle": "2022-02-07T18:55:03.029939Z",
     "shell.execute_reply": "2022-02-07T18:55:03.030409Z",
     "shell.execute_reply.started": "2022-02-07T18:49:14.429277Z"
    },
    "papermill": {
     "duration": 0.446657,
     "end_time": "2022-02-07T18:55:03.030577",
     "exception": false,
     "start_time": "2022-02-07T18:55:02.583920",
     "status": "completed"
    },
    "tags": []
   },
   "outputs": [
    {
     "data": {
      "text/plain": [
       "<AxesSubplot:title={'center':'Top 20 Genres count'}, xlabel='Genres', ylabel='Genres Count'>"
      ]
     },
     "execution_count": 51,
     "metadata": {},
     "output_type": "execute_result"
    },
    {
     "data": {
      "image/png": "[encoded data removed]",
      "text/plain": [
       "<Figure size 1080x360 with 1 Axes>"
      ]
     },
     "metadata": {},
     "output_type": "display_data"
    }
   ],
   "source": [
    "fig = plt.figure(figsize=(15,5))\n",
    "sns.set(style = \"darkgrid\")\n",
    "fig.set_facecolor(\"lightgrey\")\n",
    "plt.title('Top 20 Genres count', fontsize=12)\n",
    "plt.ylabel('\"Count of Movies & TV shows by genres', fontsize=12)\n",
    "plt.xlabel('Genres', fontsize=12)\n",
    "plt.xticks(rotation = 80,fontsize=12)\n",
    "sns.barplot(x='Genres',y='Genres Count',data=netflix_genres,palette=\"Reds_r\")"
   ]
  },
  {
   "cell_type": "markdown",
   "id": "c4e7df67",
   "metadata": {
    "papermill": {
     "duration": 0.137422,
     "end_time": "2022-02-07T18:55:03.245337",
     "exception": false,
     "start_time": "2022-02-07T18:55:03.107915",
     "status": "completed"
    },
    "tags": []
   },
   "source": [
    "### Inference\n",
    "  - As can be seen from the graph above, **\"International Movies & Dramas\"** are the top genre contributor to Netflix."
   ]
  },
  {
   "cell_type": "markdown",
   "id": "89a6c75f",
   "metadata": {
    "papermill": {
     "duration": 0.076752,
     "end_time": "2022-02-07T18:55:03.400128",
     "exception": false,
     "start_time": "2022-02-07T18:55:03.323376",
     "status": "completed"
    },
    "tags": []
   },
   "source": [
    "### Top 20 cast contributed to Netflix content\n",
    "  - Top 20 actors who have contributed the most movies to Netflix content.\n",
    "  - Top 20 actors who have contributed the most TV shows to Netflix content."
   ]
  },
  {
   "cell_type": "markdown",
   "id": "1f1f4fbf",
   "metadata": {
    "papermill": {
     "duration": 0.076789,
     "end_time": "2022-02-07T18:55:03.554047",
     "exception": false,
     "start_time": "2022-02-07T18:55:03.477258",
     "status": "completed"
    },
    "tags": []
   },
   "source": [
    "### Top 20 actors who have contributed the most movies to Netflix content"
   ]
  },
  {
   "cell_type": "code",
   "execution_count": 52,
   "id": "984e23b8",
   "metadata": {
    "execution": {
     "iopub.execute_input": "2022-02-07T18:55:03.714115Z",
     "iopub.status.busy": "2022-02-07T18:55:03.713479Z",
     "iopub.status.idle": "2022-02-07T18:55:03.737044Z",
     "shell.execute_reply": "2022-02-07T18:55:03.737571Z",
     "shell.execute_reply.started": "2022-02-07T18:49:14.905371Z"
    },
    "papermill": {
     "duration": 0.107021,
     "end_time": "2022-02-07T18:55:03.737736",
     "exception": false,
     "start_time": "2022-02-07T18:55:03.630715",
     "status": "completed"
    },
    "tags": []
   },
   "outputs": [
    {
     "data": {
      "text/html": [
       "<div>\n",
       "<style scoped>\n",
       "    .dataframe tbody tr th:only-of-type {\n",
       "        vertical-align: middle;\n",
       "    }\n",
       "\n",
       "    .dataframe tbody tr th {\n",
       "        vertical-align: top;\n",
       "    }\n",
       "\n",
       "    .dataframe thead th {\n",
       "        text-align: right;\n",
       "    }\n",
       "</style>\n",
       "<table border=\"1\" class=\"dataframe\">\n",
       "  <thead>\n",
       "    <tr style=\"text-align: right;\">\n",
       "      <th></th>\n",
       "      <th>cast</th>\n",
       "      <th>Movie</th>\n",
       "    </tr>\n",
       "  </thead>\n",
       "  <tbody>\n",
       "    <tr>\n",
       "      <th>0</th>\n",
       "      <td>4Minute, B1A4, BtoB, ELSIE, EXID, EXO, Got7, I...</td>\n",
       "      <td>1.0</td>\n",
       "    </tr>\n",
       "    <tr>\n",
       "      <th>1</th>\n",
       "      <td>50 Cent, Ryan Phillippe, Bruce Willis, Rory Ma...</td>\n",
       "      <td>1.0</td>\n",
       "    </tr>\n",
       "    <tr>\n",
       "      <th>2</th>\n",
       "      <td>A.J. LoCascio, Sendhil Ramamurthy, Fred Tatasc...</td>\n",
       "      <td>1.0</td>\n",
       "    </tr>\n",
       "    <tr>\n",
       "      <th>3</th>\n",
       "      <td>A.R. Rahman</td>\n",
       "      <td>1.0</td>\n",
       "    </tr>\n",
       "    <tr>\n",
       "      <th>4</th>\n",
       "      <td>Aadhi, Tapsee Pannu, Ritika Singh, Vennela Kis...</td>\n",
       "      <td>1.0</td>\n",
       "    </tr>\n",
       "  </tbody>\n",
       "</table>\n",
       "</div>"
      ],
      "text/plain": [
       "                                                cast  Movie\n",
       "0  4Minute, B1A4, BtoB, ELSIE, EXID, EXO, Got7, I...    1.0\n",
       "1  50 Cent, Ryan Phillippe, Bruce Willis, Rory Ma...    1.0\n",
       "2  A.J. LoCascio, Sendhil Ramamurthy, Fred Tatasc...    1.0\n",
       "3                                        A.R. Rahman    1.0\n",
       "4  Aadhi, Tapsee Pannu, Ritika Singh, Vennela Kis...    1.0"
      ]
     },
     "execution_count": 52,
     "metadata": {},
     "output_type": "execute_result"
    }
   ],
   "source": [
    "netflix_cast = netflix_data.groupby([\"type\",\"cast\"])[\"cast\"].count().unstack('type')\n",
    "netflix_cast.columns =['Movie', 'TV Show']\n",
    "netflix_movie_cast = netflix_cast[netflix_cast[\"Movie\"].notnull()].iloc[:,:1]\n",
    "netflix_movie_cast.reset_index(level='cast', inplace=True)\n",
    "netflix_movie_cast.head()"
   ]
  },
  {
   "cell_type": "code",
   "execution_count": 53,
   "id": "21e43b5f",
   "metadata": {
    "execution": {
     "iopub.execute_input": "2022-02-07T18:55:03.896339Z",
     "iopub.status.busy": "2022-02-07T18:55:03.895651Z",
     "iopub.status.idle": "2022-02-07T18:55:03.936828Z",
     "shell.execute_reply": "2022-02-07T18:55:03.937242Z",
     "shell.execute_reply.started": "2022-02-07T18:49:14.944698Z"
    },
    "papermill": {
     "duration": 0.12223,
     "end_time": "2022-02-07T18:55:03.937417",
     "exception": false,
     "start_time": "2022-02-07T18:55:03.815187",
     "status": "completed"
    },
    "tags": []
   },
   "outputs": [
    {
     "data": {
      "text/html": [
       "<div>\n",
       "<style scoped>\n",
       "    .dataframe tbody tr th:only-of-type {\n",
       "        vertical-align: middle;\n",
       "    }\n",
       "\n",
       "    .dataframe tbody tr th {\n",
       "        vertical-align: top;\n",
       "    }\n",
       "\n",
       "    .dataframe thead th {\n",
       "        text-align: right;\n",
       "    }\n",
       "</style>\n",
       "<table border=\"1\" class=\"dataframe\">\n",
       "  <thead>\n",
       "    <tr style=\"text-align: right;\">\n",
       "      <th></th>\n",
       "      <th>Actor</th>\n",
       "      <th>Actor Count</th>\n",
       "    </tr>\n",
       "  </thead>\n",
       "  <tbody>\n",
       "    <tr>\n",
       "      <th>0</th>\n",
       "      <td>Anupam Kher</td>\n",
       "      <td>42</td>\n",
       "    </tr>\n",
       "    <tr>\n",
       "      <th>1</th>\n",
       "      <td>Shah Rukh Khan</td>\n",
       "      <td>35</td>\n",
       "    </tr>\n",
       "    <tr>\n",
       "      <th>2</th>\n",
       "      <td>Naseeruddin Shah</td>\n",
       "      <td>32</td>\n",
       "    </tr>\n",
       "    <tr>\n",
       "      <th>3</th>\n",
       "      <td>Om Puri</td>\n",
       "      <td>30</td>\n",
       "    </tr>\n",
       "    <tr>\n",
       "      <th>4</th>\n",
       "      <td>Akshay Kumar</td>\n",
       "      <td>30</td>\n",
       "    </tr>\n",
       "  </tbody>\n",
       "</table>\n",
       "</div>"
      ],
      "text/plain": [
       "              Actor  Actor Count\n",
       "0       Anupam Kher           42\n",
       "1    Shah Rukh Khan           35\n",
       "2  Naseeruddin Shah           32\n",
       "3           Om Puri           30\n",
       "4      Akshay Kumar           30"
      ]
     },
     "execution_count": 53,
     "metadata": {},
     "output_type": "execute_result"
    }
   ],
   "source": [
    "movieCast = \", \".join(netflix_movie_cast['cast']).split(\", \")\n",
    "movieCast\n",
    "cnt_movieCast = Counter()\n",
    "\n",
    "for cast in movieCast:\n",
    "    cnt_movieCast[cast] += 1\n",
    "\n",
    "movieCast = cnt_movieCast.most_common(20)\n",
    "netflix_movieCast = pd.DataFrame (movieCast, columns = ['Actor','Actor Count'])\n",
    "netflix_movieCast.head()"
   ]
  },
  {
   "cell_type": "code",
   "execution_count": 54,
   "id": "d520070d",
   "metadata": {
    "execution": {
     "iopub.execute_input": "2022-02-07T18:55:04.098058Z",
     "iopub.status.busy": "2022-02-07T18:55:04.097476Z",
     "iopub.status.idle": "2022-02-07T18:55:04.487607Z",
     "shell.execute_reply": "2022-02-07T18:55:04.488031Z",
     "shell.execute_reply.started": "2022-02-07T18:49:14.997798Z"
    },
    "papermill": {
     "duration": 0.472727,
     "end_time": "2022-02-07T18:55:04.488194",
     "exception": false,
     "start_time": "2022-02-07T18:55:04.015467",
     "status": "completed"
    },
    "tags": []
   },
   "outputs": [
    {
     "data": {
      "text/plain": [
       "<AxesSubplot:title={'center':'Top Actor count for Movies'}, xlabel='Actor', ylabel='Actor Count'>"
      ]
     },
     "execution_count": 54,
     "metadata": {},
     "output_type": "execute_result"
    },
    {
     "data": {
      "image/png": "[encoded data removed]",
      "text/plain": [
       "<Figure size 1080x360 with 1 Axes>"
      ]
     },
     "metadata": {},
     "output_type": "display_data"
    }
   ],
   "source": [
    "fig = plt.figure(figsize=(15,5))\n",
    "sns.set(style = \"darkgrid\")\n",
    "fig.set_facecolor(\"lightgrey\")\n",
    "plt.title('Top Actor count for Movies', fontsize=12)\n",
    "plt.ylabel('\"Count of Movies by Actors', fontsize=12)\n",
    "plt.xlabel('Actor Names', fontsize=12)\n",
    "plt.xticks(rotation = 80,fontsize=12)\n",
    "sns.barplot(x='Actor',y='Actor Count',data=netflix_movieCast,palette=\"Reds_r\")"
   ]
  },
  {
   "cell_type": "markdown",
   "id": "331f8939",
   "metadata": {
    "papermill": {
     "duration": 0.080555,
     "end_time": "2022-02-07T18:55:04.649328",
     "exception": false,
     "start_time": "2022-02-07T18:55:04.568773",
     "status": "completed"
    },
    "tags": []
   },
   "source": [
    "### Inference\n",
    "  - Based on the above data, the majority of Netflix movies are **starring Indian actors.**"
   ]
  },
  {
   "cell_type": "markdown",
   "id": "4e2e311e",
   "metadata": {
    "papermill": {
     "duration": 0.081305,
     "end_time": "2022-02-07T18:55:04.811584",
     "exception": false,
     "start_time": "2022-02-07T18:55:04.730279",
     "status": "completed"
    },
    "tags": []
   },
   "source": [
    "### Top 20 actors who have contributed the most TV shows to Netflix content."
   ]
  },
  {
   "cell_type": "code",
   "execution_count": 55,
   "id": "7721309d",
   "metadata": {
    "execution": {
     "iopub.execute_input": "2022-02-07T18:55:04.978742Z",
     "iopub.status.busy": "2022-02-07T18:55:04.978131Z",
     "iopub.status.idle": "2022-02-07T18:55:05.004753Z",
     "shell.execute_reply": "2022-02-07T18:55:05.005306Z",
     "shell.execute_reply.started": "2022-02-07T18:49:15.472072Z"
    },
    "papermill": {
     "duration": 0.110595,
     "end_time": "2022-02-07T18:55:05.005479",
     "exception": false,
     "start_time": "2022-02-07T18:55:04.894884",
     "status": "completed"
    },
    "tags": []
   },
   "outputs": [
    {
     "data": {
      "text/html": [
       "<div>\n",
       "<style scoped>\n",
       "    .dataframe tbody tr th:only-of-type {\n",
       "        vertical-align: middle;\n",
       "    }\n",
       "\n",
       "    .dataframe tbody tr th {\n",
       "        vertical-align: top;\n",
       "    }\n",
       "\n",
       "    .dataframe thead th {\n",
       "        text-align: right;\n",
       "    }\n",
       "</style>\n",
       "<table border=\"1\" class=\"dataframe\">\n",
       "  <thead>\n",
       "    <tr style=\"text-align: right;\">\n",
       "      <th></th>\n",
       "      <th>Actor</th>\n",
       "      <th>Actor Count</th>\n",
       "    </tr>\n",
       "  </thead>\n",
       "  <tbody>\n",
       "    <tr>\n",
       "      <th>0</th>\n",
       "      <td>Takahiro Sakurai</td>\n",
       "      <td>25</td>\n",
       "    </tr>\n",
       "    <tr>\n",
       "      <th>1</th>\n",
       "      <td>Yuki Kaji</td>\n",
       "      <td>19</td>\n",
       "    </tr>\n",
       "    <tr>\n",
       "      <th>2</th>\n",
       "      <td>Junichi Suwabe</td>\n",
       "      <td>17</td>\n",
       "    </tr>\n",
       "    <tr>\n",
       "      <th>3</th>\n",
       "      <td>Daisuke Ono</td>\n",
       "      <td>17</td>\n",
       "    </tr>\n",
       "    <tr>\n",
       "      <th>4</th>\n",
       "      <td>Ai Kayano</td>\n",
       "      <td>17</td>\n",
       "    </tr>\n",
       "  </tbody>\n",
       "</table>\n",
       "</div>"
      ],
      "text/plain": [
       "              Actor  Actor Count\n",
       "0  Takahiro Sakurai           25\n",
       "1         Yuki Kaji           19\n",
       "2    Junichi Suwabe           17\n",
       "3       Daisuke Ono           17\n",
       "4         Ai Kayano           17"
      ]
     },
     "execution_count": 55,
     "metadata": {},
     "output_type": "execute_result"
    }
   ],
   "source": [
    "netflix_tv_show_cast = netflix_cast[netflix_cast[\"TV Show\"].notnull()].iloc[:,1:2]\n",
    "netflix_tv_show_cast.reset_index(level='cast', inplace=True)\n",
    "tv_show_cast = \", \".join(netflix_tv_show_cast['cast']).split(\", \")\n",
    "tv_show_cast\n",
    "cnt_tv_show_cast = Counter()\n",
    "\n",
    "for cast in tv_show_cast:\n",
    "    cnt_tv_show_cast[cast] += 1\n",
    "\n",
    "tv_show_cast = cnt_tv_show_cast.most_common(20)\n",
    "netflix_tvshow_cast = pd.DataFrame (tv_show_cast, columns = ['Actor','Actor Count'])\n",
    "netflix_tvshow_cast.head()"
   ]
  },
  {
   "cell_type": "code",
   "execution_count": 56,
   "id": "99e6f4d0",
   "metadata": {
    "execution": {
     "iopub.execute_input": "2022-02-07T18:55:05.172630Z",
     "iopub.status.busy": "2022-02-07T18:55:05.171954Z",
     "iopub.status.idle": "2022-02-07T18:55:05.571319Z",
     "shell.execute_reply": "2022-02-07T18:55:05.571854Z",
     "shell.execute_reply.started": "2022-02-07T18:49:15.505710Z"
    },
    "papermill": {
     "duration": 0.485885,
     "end_time": "2022-02-07T18:55:05.572015",
     "exception": false,
     "start_time": "2022-02-07T18:55:05.086130",
     "status": "completed"
    },
    "tags": []
   },
   "outputs": [
    {
     "data": {
      "text/plain": [
       "<AxesSubplot:title={'center':'Top Actor count for TV Shows'}, xlabel='Actor', ylabel='Actor Count'>"
      ]
     },
     "execution_count": 56,
     "metadata": {},
     "output_type": "execute_result"
    },
    {
     "data": {
      "image/png": "[encoded data removed]",
      "text/plain": [
       "<Figure size 1080x360 with 1 Axes>"
      ]
     },
     "metadata": {},
     "output_type": "display_data"
    }
   ],
   "source": [
    "fig = plt.figure(figsize=(15,5))\n",
    "sns.set(style = \"darkgrid\")\n",
    "fig.set_facecolor(\"lightgrey\")\n",
    "plt.title('Top Actor count for TV Shows', fontsize=12)\n",
    "plt.ylabel('\"Count of TV Shows by Actors', fontsize=12)\n",
    "plt.xlabel('Actor Names', fontsize=12)\n",
    "plt.xticks(rotation = 80,fontsize=12)\n",
    "sns.barplot(x='Actor',y='Actor Count',data=netflix_tvshow_cast,palette=\"Reds_r\")"
   ]
  },
  {
   "cell_type": "markdown",
   "id": "fa736024",
   "metadata": {
    "papermill": {
     "duration": 0.084767,
     "end_time": "2022-02-07T18:55:05.739646",
     "exception": false,
     "start_time": "2022-02-07T18:55:05.654879",
     "status": "completed"
    },
    "tags": []
   },
   "source": [
    "### Inference\n",
    "  - In TV and shows, there was a mix of stars from around the world."
   ]
  },
  {
   "cell_type": "markdown",
   "id": "907e55b7",
   "metadata": {
    "papermill": {
     "duration": 0.084637,
     "end_time": "2022-02-07T18:55:05.908759",
     "exception": false,
     "start_time": "2022-02-07T18:55:05.824122",
     "status": "completed"
    },
    "tags": []
   },
   "source": [
    "### Distribution of Movie Duration"
   ]
  },
  {
   "cell_type": "code",
   "execution_count": 57,
   "id": "aeb7c093",
   "metadata": {
    "execution": {
     "iopub.execute_input": "2022-02-07T18:55:06.079367Z",
     "iopub.status.busy": "2022-02-07T18:55:06.078763Z",
     "iopub.status.idle": "2022-02-07T18:55:06.089290Z",
     "shell.execute_reply": "2022-02-07T18:55:06.088644Z",
     "shell.execute_reply.started": "2022-02-07T18:53:25.188683Z"
    },
    "papermill": {
     "duration": 0.096094,
     "end_time": "2022-02-07T18:55:06.089427",
     "exception": false,
     "start_time": "2022-02-07T18:55:05.993333",
     "status": "completed"
    },
    "tags": []
   },
   "outputs": [],
   "source": [
    "netflix_data_mv = netflix_data[netflix_data[\"type\"] == \"Movie\"]\n",
    "netflix_data_mv['duration'] = netflix_data_mv['duration'].fillna(0.0).astype(float)"
   ]
  },
  {
   "cell_type": "code",
   "execution_count": 58,
   "id": "f080ce37",
   "metadata": {
    "execution": {
     "iopub.execute_input": "2022-02-07T18:55:06.290788Z",
     "iopub.status.busy": "2022-02-07T18:55:06.274462Z",
     "iopub.status.idle": "2022-02-07T18:55:06.794619Z",
     "shell.execute_reply": "2022-02-07T18:55:06.794077Z",
     "shell.execute_reply.started": "2022-02-07T18:53:32.536465Z"
    },
    "papermill": {
     "duration": 0.622182,
     "end_time": "2022-02-07T18:55:06.794759",
     "exception": false,
     "start_time": "2022-02-07T18:55:06.172577",
     "status": "completed"
    },
    "tags": []
   },
   "outputs": [
    {
     "data": {
      "text/plain": [
       "<seaborn.axisgrid.FacetGrid at 0x7ffb1e640690>"
      ]
     },
     "execution_count": 58,
     "metadata": {},
     "output_type": "execute_result"
    },
    {
     "data": {
      "image/png": "[encoded data removed]",
      "text/plain": [
       "<Figure size 360x360 with 1 Axes>"
      ]
     },
     "metadata": {},
     "output_type": "display_data"
    }
   ],
   "source": [
    "sns.displot(data=netflix_data_mv,x='duration',bins=100,color=\"r\")"
   ]
  },
  {
   "cell_type": "markdown",
   "id": "99448316",
   "metadata": {
    "papermill": {
     "duration": 0.084561,
     "end_time": "2022-02-07T18:55:06.964097",
     "exception": false,
     "start_time": "2022-02-07T18:55:06.879536",
     "status": "completed"
    },
    "tags": []
   },
   "source": [
    "### No. of seasons per TV Shows."
   ]
  },
  {
   "cell_type": "code",
   "execution_count": 59,
   "id": "3a319417",
   "metadata": {
    "execution": {
     "iopub.execute_input": "2022-02-07T18:55:07.139025Z",
     "iopub.status.busy": "2022-02-07T18:55:07.138440Z",
     "iopub.status.idle": "2022-02-07T18:55:07.146728Z",
     "shell.execute_reply": "2022-02-07T18:55:07.146238Z",
     "shell.execute_reply.started": "2022-02-07T18:53:56.389409Z"
    },
    "papermill": {
     "duration": 0.098738,
     "end_time": "2022-02-07T18:55:07.146856",
     "exception": false,
     "start_time": "2022-02-07T18:55:07.048118",
     "status": "completed"
    },
    "tags": []
   },
   "outputs": [
    {
     "data": {
      "text/html": [
       "<div>\n",
       "<style scoped>\n",
       "    .dataframe tbody tr th:only-of-type {\n",
       "        vertical-align: middle;\n",
       "    }\n",
       "\n",
       "    .dataframe tbody tr th {\n",
       "        vertical-align: top;\n",
       "    }\n",
       "\n",
       "    .dataframe thead th {\n",
       "        text-align: right;\n",
       "    }\n",
       "</style>\n",
       "<table border=\"1\" class=\"dataframe\">\n",
       "  <thead>\n",
       "    <tr style=\"text-align: right;\">\n",
       "      <th></th>\n",
       "      <th>season</th>\n",
       "      <th>count</th>\n",
       "    </tr>\n",
       "  </thead>\n",
       "  <tbody>\n",
       "    <tr>\n",
       "      <th>0</th>\n",
       "      <td>0</td>\n",
       "      <td>6131</td>\n",
       "    </tr>\n",
       "    <tr>\n",
       "      <th>1</th>\n",
       "      <td>1</td>\n",
       "      <td>1793</td>\n",
       "    </tr>\n",
       "    <tr>\n",
       "      <th>2</th>\n",
       "      <td>2</td>\n",
       "      <td>425</td>\n",
       "    </tr>\n",
       "    <tr>\n",
       "      <th>3</th>\n",
       "      <td>3</td>\n",
       "      <td>199</td>\n",
       "    </tr>\n",
       "    <tr>\n",
       "      <th>4</th>\n",
       "      <td>4</td>\n",
       "      <td>95</td>\n",
       "    </tr>\n",
       "  </tbody>\n",
       "</table>\n",
       "</div>"
      ],
      "text/plain": [
       "  season  count\n",
       "0      0   6131\n",
       "1      1   1793\n",
       "2      2    425\n",
       "3      3    199\n",
       "4      4     95"
      ]
     },
     "execution_count": 59,
     "metadata": {},
     "output_type": "execute_result"
    }
   ],
   "source": [
    "netflix_season_cnt = netflix_data['season_cnt'].value_counts().reset_index()\n",
    "netflix_season_cnt = netflix_season_cnt.rename(columns = {'season_cnt' : \"count\", \"index\" : 'season'})\n",
    "netflix_season_cnt.loc[0,'season'] = 0\n",
    "netflix_season_cnt.head()"
   ]
  },
  {
   "cell_type": "code",
   "execution_count": 60,
   "id": "da2dfe9a",
   "metadata": {
    "execution": {
     "iopub.execute_input": "2022-02-07T18:55:07.317382Z",
     "iopub.status.busy": "2022-02-07T18:55:07.316532Z",
     "iopub.status.idle": "2022-02-07T18:55:07.623461Z",
     "shell.execute_reply": "2022-02-07T18:55:07.623854Z",
     "shell.execute_reply.started": "2022-02-07T18:54:04.731936Z"
    },
    "papermill": {
     "duration": 0.393877,
     "end_time": "2022-02-07T18:55:07.624020",
     "exception": false,
     "start_time": "2022-02-07T18:55:07.230143",
     "status": "completed"
    },
    "tags": []
   },
   "outputs": [
    {
     "data": {
      "text/plain": [
       "Text(0.5, 0, 'No. of Seasons')"
      ]
     },
     "execution_count": 60,
     "metadata": {},
     "output_type": "execute_result"
    },
    {
     "data": {
      "image/png": "[encoded data removed]",
      "text/plain": [
       "<Figure size 1080x360 with 1 Axes>"
      ]
     },
     "metadata": {},
     "output_type": "display_data"
    }
   ],
   "source": [
    "fig = plt.figure(figsize=(15,5))\n",
    "sns.set(style = \"darkgrid\")\n",
    "fig.set_facecolor(\"lightgrey\")\n",
    "plt.title('Season count for TV shows', fontsize=12)\n",
    "plt.xticks(rotation = 0,fontsize=12)\n",
    "sns.barplot(x='season',y='count',data=netflix_season_cnt,palette=\"Reds_r\")\n",
    "plt.ylabel('Count of no. of season per TV show', fontsize=12)\n",
    "plt.xlabel('No. of Seasons', fontsize=12)"
   ]
  },
  {
   "cell_type": "markdown",
   "id": "5c8c6bae",
   "metadata": {
    "papermill": {
     "duration": 0.084346,
     "end_time": "2022-02-07T18:55:07.793073",
     "exception": false,
     "start_time": "2022-02-07T18:55:07.708727",
     "status": "completed"
    },
    "tags": []
   },
   "source": [
    "## Bi-variant Analysis"
   ]
  },
  {
   "cell_type": "markdown",
   "id": "9502d68b",
   "metadata": {
    "papermill": {
     "duration": 0.0867,
     "end_time": "2022-02-07T18:55:07.964595",
     "exception": false,
     "start_time": "2022-02-07T18:55:07.877895",
     "status": "completed"
    },
    "tags": []
   },
   "source": [
    "## Bi-variante analysis for below mentioned variables\n",
    "  - day content added and Type (Movie or Tv Show)\n",
    "  - rating and type "
   ]
  },
  {
   "cell_type": "markdown",
   "id": "0745437e",
   "metadata": {
    "papermill": {
     "duration": 0.085164,
     "end_time": "2022-02-07T18:55:08.137393",
     "exception": false,
     "start_time": "2022-02-07T18:55:08.052229",
     "status": "completed"
    },
    "tags": []
   },
   "source": [
    "### Day content added and Type (Movie or Tv Show)\n",
    "  - As we have seen earlier that It was evident that 1st of every month was when the most content was added. Now it make sense to undersand how is the distribution based on Type."
   ]
  },
  {
   "cell_type": "code",
   "execution_count": 61,
   "id": "ac82ea6b",
   "metadata": {
    "execution": {
     "iopub.execute_input": "2022-02-07T18:55:08.312819Z",
     "iopub.status.busy": "2022-02-07T18:55:08.312191Z",
     "iopub.status.idle": "2022-02-07T18:55:08.644158Z",
     "shell.execute_reply": "2022-02-07T18:55:08.644665Z",
     "shell.execute_reply.started": "2022-02-07T18:49:15.969640Z"
    },
    "papermill": {
     "duration": 0.422863,
     "end_time": "2022-02-07T18:55:08.644834",
     "exception": false,
     "start_time": "2022-02-07T18:55:08.221971",
     "status": "completed"
    },
    "tags": []
   },
   "outputs": [
    {
     "data": {
      "text/plain": [
       "Text(0.5, 1.0, 'Movies and TV Shows added added to Netflix by date ')"
      ]
     },
     "execution_count": 61,
     "metadata": {},
     "output_type": "execute_result"
    },
    {
     "data": {
      "image/png": "[encoded data removed]",
      "text/plain": [
       "<Figure size 1080x360 with 1 Axes>"
      ]
     },
     "metadata": {},
     "output_type": "display_data"
    }
   ],
   "source": [
    "fig = plt.figure(figsize=(15,5))\n",
    "sns.set(style='whitegrid')\n",
    "fig.set_facecolor(\"lightgrey\")\n",
    "sns.countplot(data=netflix_date,x = 'day_added',hue = 'type',palette =\"Reds_r\",\n",
    "              order = netflix_date['day_added'].value_counts().index[0:15])\n",
    "plt.title('Movies and TV Shows added added to Netflix by date ', fontsize=14)"
   ]
  },
  {
   "cell_type": "markdown",
   "id": "765b0239",
   "metadata": {
    "papermill": {
     "duration": 0.08599,
     "end_time": "2022-02-07T18:55:08.817587",
     "exception": false,
     "start_time": "2022-02-07T18:55:08.731597",
     "status": "completed"
    },
    "tags": []
   },
   "source": [
    "### Infernce\n",
    "  - It was evident that 1st of every month was when the most content was added. Among these, **71% are Movies, while 21% are TV shows**.It highly recommend that **Movies be added at the beginning of every month**.\n",
    "\n",
    "  - In addition, **Netflix will know when the majority of content is being added. If Netflix team needs to increase the servers, etc., they can work ahead of time.**"
   ]
  },
  {
   "cell_type": "code",
   "execution_count": 62,
   "id": "9eb1cbb0",
   "metadata": {
    "execution": {
     "iopub.execute_input": "2022-02-07T18:55:08.996876Z",
     "iopub.status.busy": "2022-02-07T18:55:08.996299Z",
     "iopub.status.idle": "2022-02-07T18:55:09.325030Z",
     "shell.execute_reply": "2022-02-07T18:55:09.324108Z",
     "shell.execute_reply.started": "2022-02-07T18:49:16.424374Z"
    },
    "papermill": {
     "duration": 0.417864,
     "end_time": "2022-02-07T18:55:09.325172",
     "exception": false,
     "start_time": "2022-02-07T18:55:08.907308",
     "status": "completed"
    },
    "tags": []
   },
   "outputs": [
    {
     "data": {
      "text/plain": [
       "<seaborn.axisgrid.FacetGrid at 0x7ffb1a37c890>"
      ]
     },
     "execution_count": 62,
     "metadata": {},
     "output_type": "execute_result"
    },
    {
     "data": {
      "image/png": "[encoded data removed]",
      "text/plain": [
       "<Figure size 447.1x360 with 1 Axes>"
      ]
     },
     "metadata": {},
     "output_type": "display_data"
    }
   ],
   "source": [
    "sns.catplot(data=netflix_data, kind=\"count\", x=\"ratings_cat\", hue=\"type\", palette=\"Reds_r\")"
   ]
  },
  {
   "cell_type": "code",
   "execution_count": 63,
   "id": "d1ce86ef",
   "metadata": {
    "execution": {
     "iopub.execute_input": "2022-02-07T18:55:09.503193Z",
     "iopub.status.busy": "2022-02-07T18:55:09.502324Z",
     "iopub.status.idle": "2022-02-07T18:55:09.839782Z",
     "shell.execute_reply": "2022-02-07T18:55:09.839287Z",
     "shell.execute_reply.started": "2022-02-07T18:49:16.913547Z"
    },
    "papermill": {
     "duration": 0.4275,
     "end_time": "2022-02-07T18:55:09.839913",
     "exception": false,
     "start_time": "2022-02-07T18:55:09.412413",
     "status": "completed"
    },
    "tags": []
   },
   "outputs": [
    {
     "data": {
      "text/plain": [
       "Text(0.5, 1.0, 'Content available at Netflix based on the Maurity level ')"
      ]
     },
     "execution_count": 63,
     "metadata": {},
     "output_type": "execute_result"
    },
    {
     "data": {
      "image/png": "[encoded data removed]",
      "text/plain": [
       "<Figure size 1080x360 with 1 Axes>"
      ]
     },
     "metadata": {},
     "output_type": "display_data"
    }
   ],
   "source": [
    "fig = plt.figure(figsize=(15,5))\n",
    "sns.set(style='whitegrid')\n",
    "fig.set_facecolor(\"lightgrey\")\n",
    "sns.countplot(data=netflix_data,x = 'rating',hue = 'type',palette =\"Reds_r\",\n",
    "              order = netflix_data['rating'].value_counts().index[0:15])\n",
    "plt.title('Content available at Netflix based on the Maurity level ', fontsize=14)"
   ]
  },
  {
   "cell_type": "markdown",
   "id": "fb7271db",
   "metadata": {
    "papermill": {
     "duration": 0.088316,
     "end_time": "2022-02-07T18:55:10.017493",
     "exception": false,
     "start_time": "2022-02-07T18:55:09.929177",
     "status": "completed"
    },
    "tags": []
   },
   "source": [
    "## <u>Summary of Final Recommendations<u>\n",
    "    \n",
    "  - Only 25% of Netflix's content consists of movies and TV shows released before 2013. \n",
    "###### Recommendations \n",
    "    - **For more subscribers, Netflix should invest in classic Movies and TV shows.**\n",
    "\n",
    "    \n",
    "  - Netflix adds 45% of its content on Thursdays and Fridays. This may be due to the fact that people are likely to watch more content during weekends.\n",
    "###### Recommendations - \n",
    "    - For **content creators or Netflix, Thursday and Friday are recommended dates to release content.**\n",
    "\n",
    "    \n",
    "  - It was evident that 1st of every month was when the most content was added. Among these, 71% are Movies, while 21% are TV shows.\n",
    "###### Recommendations -\n",
    "    - It highly **recommend that Movies be added at the beginning of every month**.\n",
    "    - In addition, **Netflix will know when the majority of content is being added. If Netflix team needs to increase the servers, etc., they can work ahead of time and it will have one time cost per month or quarter.**\n",
    "\n",
    "\n",
    "  - Netflix began adding content in 2014 as indicated by the \"added_year\" analysis mentioned above. Added content has a release date ranging from 2014 till now for 75% of movies and TV shows. This shows Netflix encourages content creators to add new content in the platform.\n",
    "###### Recommendations -\n",
    "    - **New content creators have a lot of opportunities to share their content on Netflix.**\n",
    "\n",
    "\n",
    "  - On Netflix, **48%** of the content (both Movies and TV shows) is for adults.Based on the analysis, more than **60%** of \"TV & Shows\" content is not suitable for kids.\n",
    "###### Recommendations -\n",
    "    - More **kid-friendly** content could increase subscriber numbers."
   ]
  }
 ],
 "metadata": {
  "kernelspec": {
   "display_name": "Python 3 (ipykernel)",
   "language": "python",
   "name": "python3"
  },
  "language_info": {
   "codemirror_mode": {
    "name": "ipython",
    "version": 3
   },
   "file_extension": ".py",
   "mimetype": "text/x-python",
   "name": "python",
   "nbconvert_exporter": "python",
   "pygments_lexer": "ipython3",
   "version": "3.11.3"
  },
  "papermill": {
   "default_parameters": {},
   "duration": 33.645256,
   "end_time": "2022-02-07T18:55:10.915846",
   "environment_variables": {},
   "exception": null,
   "input_path": "__notebook__.ipynb",
   "output_path": "__notebook__.ipynb",
   "parameters": {},
   "start_time": "2022-02-07T18:54:37.270590",
   "version": "2.3.3"
  }
 },
 "nbformat": 4,
 "nbformat_minor": 5
}
